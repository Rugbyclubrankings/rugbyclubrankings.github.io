{
 "cells": [
  {
   "cell_type": "code",
   "execution_count": 1,
   "metadata": {},
   "outputs": [],
   "source": [
    "import sys\n",
    "import yaml\n",
    "with open('..//secrets.yml', 'r') as file:\n",
    "    secrets = yaml.safe_load(file)\n",
    "sys.path.append(secrets['elo_proj_path'])"
   ]
  },
  {
   "cell_type": "code",
   "execution_count": 2,
   "metadata": {},
   "outputs": [],
   "source": [
    "from player_club_classes import team_elo, Player, Club, Match\n",
    "import pandas as pd\n",
    "import numpy as np\n",
    "import plotly.express as px\n",
    "import plotly.graph_objects as go\n",
    "import plotly\n",
    "import pickle\n",
    "import datetime\n",
    "\n",
    "from support_files.team_colors import team_color_dict\n",
    "from IPython.display import display\n",
    "pd.options.display.max_columns = None\n",
    "\n",
    "team_colors = pd.DataFrame(team_color_dict).T\n",
    "team_colors.columns = ['Primary', 'Secondary']\n",
    "team_colors = team_colors.rename_axis('Team').reset_index()\n",
    "\n",
    "from plotly.validators.scatter.marker import SymbolValidator\n",
    "raw_symbols = SymbolValidator().values\n",
    "\n",
    "simple_symbols = [i for i in raw_symbols if str(i).isalpha()]\n",
    "\n",
    "with open('../../Rugby_ELO/processed_data/playerbase.pickle', 'rb') as handle:\n",
    "    playerbase = pickle.load(handle)\n",
    "with open('../../Rugby_ELO/processed_data/matchlist.pickle', 'rb') as handle:\n",
    "    matchlist = pickle.load(handle)\n",
    "with open('../../Rugby_ELO/processed_data/teamlist.pickle', 'rb') as handle:\n",
    "    teamlist = pickle.load(handle)"
   ]
  },
  {
   "cell_type": "code",
   "execution_count": 31,
   "metadata": {},
   "outputs": [],
   "source": [
    "match_list = []\n",
    "for _, match in matchlist.items():\n",
    "    match_list.append({\n",
    "        key: val for key, val in vars(match).items()\n",
    "        #if key not in ['home_team', 'away_team']\n",
    "        })\n",
    "\n",
    "match_df = pd.DataFrame(match_list)\n",
    "#match_df = match_df.drop(['home_team', 'away_team', 'commentary_df'], axis = 1)\n",
    "match_df = match_df[~match_df.point_diff.isna()]"
   ]
  },
  {
   "cell_type": "code",
   "execution_count": 4,
   "metadata": {},
   "outputs": [],
   "source": [
    "player_elo_list = []\n",
    "for player_name, player in playerbase.items():\n",
    "    player_elo = pd.DataFrame(player.elo_list, columns = [\n",
    "        'Number', 'Full_Name', 'Team', 'Player', 'Position', 'Tries',\n",
    "        'Try Assists', 'Conversion Goals', 'Penalty Goals',\n",
    "        'Drop Goals Converted', 'Points', 'Passes', 'Runs', 'Meters Run',\n",
    "        'Clean Breaks', 'Defenders Beaten', 'Offload', 'Turnovers Conceded',\n",
    "        'Tackles', 'Missed Tackles', 'Lineouts Won', 'Penalties Conceded',\n",
    "        'Yellow Cards', 'Red Cards', 'espn_id_num', 'Competition', 'Date',\n",
    "        'Home Team', 'Home Score', 'Away Team', 'Away Score', 'Minutes',\n",
    "        'Position_Number', 'gameid', 'Unicode_ID', 'comp_level', 'start_elo', 'end_elo'\n",
    "       ])\n",
    "    player_elo['Full Name'] = player_name[0]\n",
    "    player_elo['Unicode_ID'] = player_name[1]\n",
    "    player_elo_list.append(player_elo)\n",
    "\n",
    "player_elo = pd.concat(player_elo_list).reset_index(drop=True)\n",
    "player_elo = pd.merge(player_elo, team_colors, on = 'Team', how = 'left')\n",
    "player_elo['elo_change'] = player_elo.end_elo - player_elo.start_elo\n",
    "player_elo.Date = pd.to_datetime(player_elo.Date)\n",
    "\n",
    "player_elo['week_num'] = player_elo['Date'].dt.isocalendar().week\n",
    "player_elo['month'] = player_elo['Date'].dt.month\n",
    "player_elo['year'] = player_elo['Date'].dt.year\n",
    "\n",
    "player_elo.loc[player_elo.Position == 'BR', 'Position'] = 'N8'\n",
    "\n",
    "starters = player_elo[player_elo.Position != 'R']\n",
    "starters = starters.dropna(subset=['Position'])"
   ]
  },
  {
   "cell_type": "code",
   "execution_count": 5,
   "metadata": {},
   "outputs": [
    {
     "data": {
      "text/html": [
       "<div>\n",
       "<style scoped>\n",
       "    .dataframe tbody tr th:only-of-type {\n",
       "        vertical-align: middle;\n",
       "    }\n",
       "\n",
       "    .dataframe tbody tr th {\n",
       "        vertical-align: top;\n",
       "    }\n",
       "\n",
       "    .dataframe thead th {\n",
       "        text-align: right;\n",
       "    }\n",
       "</style>\n",
       "<table border=\"1\" class=\"dataframe\">\n",
       "  <thead>\n",
       "    <tr style=\"text-align: right;\">\n",
       "      <th></th>\n",
       "      <th>Position</th>\n",
       "      <th>Percentile_5</th>\n",
       "      <th>Percentile_10</th>\n",
       "      <th>Percentile_25</th>\n",
       "      <th>Percentile_50</th>\n",
       "      <th>Percentile_75</th>\n",
       "      <th>Percentile_90</th>\n",
       "      <th>Percentile_95</th>\n",
       "      <th>year</th>\n",
       "      <th>month</th>\n",
       "      <th>elo_mean</th>\n",
       "      <th>dates</th>\n",
       "    </tr>\n",
       "  </thead>\n",
       "  <tbody>\n",
       "    <tr>\n",
       "      <th>5</th>\n",
       "      <td>L</td>\n",
       "      <td>75.011483</td>\n",
       "      <td>77.099297</td>\n",
       "      <td>80.079265</td>\n",
       "      <td>87.454725</td>\n",
       "      <td>100.730333</td>\n",
       "      <td>110.417997</td>\n",
       "      <td>117.539549</td>\n",
       "      <td>2022.0</td>\n",
       "      <td>10.0</td>\n",
       "      <td>91.052876</td>\n",
       "      <td>2022-10-01</td>\n",
       "    </tr>\n",
       "    <tr>\n",
       "      <th>6</th>\n",
       "      <td>N8</td>\n",
       "      <td>75.437645</td>\n",
       "      <td>77.491620</td>\n",
       "      <td>80.819692</td>\n",
       "      <td>90.091618</td>\n",
       "      <td>101.220128</td>\n",
       "      <td>110.963306</td>\n",
       "      <td>116.111706</td>\n",
       "      <td>2022.0</td>\n",
       "      <td>10.0</td>\n",
       "      <td>92.114439</td>\n",
       "      <td>2022-10-01</td>\n",
       "    </tr>\n",
       "    <tr>\n",
       "      <th>7</th>\n",
       "      <td>P</td>\n",
       "      <td>74.769619</td>\n",
       "      <td>77.293005</td>\n",
       "      <td>79.570171</td>\n",
       "      <td>85.024271</td>\n",
       "      <td>99.496033</td>\n",
       "      <td>108.894706</td>\n",
       "      <td>113.714101</td>\n",
       "      <td>2022.0</td>\n",
       "      <td>10.0</td>\n",
       "      <td>89.961264</td>\n",
       "      <td>2022-10-01</td>\n",
       "    </tr>\n",
       "    <tr>\n",
       "      <th>8</th>\n",
       "      <td>SH</td>\n",
       "      <td>75.894026</td>\n",
       "      <td>77.288991</td>\n",
       "      <td>79.476348</td>\n",
       "      <td>86.620467</td>\n",
       "      <td>100.985685</td>\n",
       "      <td>110.525464</td>\n",
       "      <td>116.003259</td>\n",
       "      <td>2022.0</td>\n",
       "      <td>10.0</td>\n",
       "      <td>90.809172</td>\n",
       "      <td>2022-10-01</td>\n",
       "    </tr>\n",
       "    <tr>\n",
       "      <th>9</th>\n",
       "      <td>W</td>\n",
       "      <td>74.272347</td>\n",
       "      <td>76.432199</td>\n",
       "      <td>79.211884</td>\n",
       "      <td>83.593588</td>\n",
       "      <td>97.860698</td>\n",
       "      <td>110.683202</td>\n",
       "      <td>116.945200</td>\n",
       "      <td>2022.0</td>\n",
       "      <td>10.0</td>\n",
       "      <td>89.332982</td>\n",
       "      <td>2022-10-01</td>\n",
       "    </tr>\n",
       "  </tbody>\n",
       "</table>\n",
       "</div>"
      ],
      "text/plain": [
       "  Position  Percentile_5  Percentile_10  Percentile_25  Percentile_50  \\\n",
       "5        L     75.011483      77.099297      80.079265      87.454725   \n",
       "6       N8     75.437645      77.491620      80.819692      90.091618   \n",
       "7        P     74.769619      77.293005      79.570171      85.024271   \n",
       "8       SH     75.894026      77.288991      79.476348      86.620467   \n",
       "9        W     74.272347      76.432199      79.211884      83.593588   \n",
       "\n",
       "   Percentile_75  Percentile_90  Percentile_95    year  month   elo_mean  \\\n",
       "5     100.730333     110.417997     117.539549  2022.0   10.0  91.052876   \n",
       "6     101.220128     110.963306     116.111706  2022.0   10.0  92.114439   \n",
       "7      99.496033     108.894706     113.714101  2022.0   10.0  89.961264   \n",
       "8     100.985685     110.525464     116.003259  2022.0   10.0  90.809172   \n",
       "9      97.860698     110.683202     116.945200  2022.0   10.0  89.332982   \n",
       "\n",
       "       dates  \n",
       "5 2022-10-01  \n",
       "6 2022-10-01  \n",
       "7 2022-10-01  \n",
       "8 2022-10-01  \n",
       "9 2022-10-01  "
      ]
     },
     "execution_count": 5,
     "metadata": {},
     "output_type": "execute_result"
    }
   ],
   "source": [
    "#monthly_percentiles\n",
    "from plot_functions import *\n",
    "\n",
    "starters = player_elo[player_elo.Position != 'R']\n",
    "starters = starters.dropna(subset=['Position'])\n",
    "last_date_of_months = player_elo.groupby(pd.Grouper(key=\"Date\", freq='M')).Date.max()\n",
    "percentile_list = []\n",
    "\n",
    "for date in last_date_of_months:\n",
    "    current_players = starters[starters.Date < date]\n",
    "    current_players = current_players[current_players.Date >= date - datetime.timedelta(days=365)]\n",
    "    current_players = current_players[current_players.groupby(['Full Name'])['Date'].transform(max) == current_players['Date']].copy()\n",
    "    percentile_df = current_players.groupby('Position')['end_elo'].quantile([0.05, 0.1, 0.25, 0.5, 0.75, 0.9, 0.95]).reset_index()\n",
    "    percentile_df.columns = ['Position', 'Percentile', 'elo']\n",
    "    percentile_df = percentile_df.pivot(index = 'Position', columns = 'Percentile')\n",
    "    percentile_df.columns = [\"Percentile_\" + str(int(x*100)) for x in percentile_df.columns.droplevel()]\n",
    "    percentile_df = percentile_df.reset_index()\n",
    "    percentile_df['year'] = date.year\n",
    "    percentile_df['month'] = date.month\n",
    "\n",
    "    mean_df = current_players.groupby('Position')['end_elo'].mean().reset_index()\n",
    "    mean_df.columns = ['Position', 'elo_mean']\n",
    "    percentile_df = percentile_df.merge(mean_df)\n",
    "\n",
    "    percentile_list.append(percentile_df)\n",
    "    \n",
    "percentile_df = pd.concat(percentile_list)\n",
    "percentile_df['dates'] = pd.to_datetime(percentile_df['year'].astype(int).astype(str)  + percentile_df['month'].astype(int).astype(str).str.pad(2, fillchar = '0'), format='%Y%m')\n",
    "\n",
    "percentile_df.tail()"
   ]
  },
  {
   "cell_type": "code",
   "execution_count": 6,
   "metadata": {},
   "outputs": [],
   "source": [
    "plt.rcParams['figure.figsize'] = [15, 7]"
   ]
  },
  {
   "cell_type": "code",
   "execution_count": 7,
   "metadata": {},
   "outputs": [
    {
     "data": {
      "text/plain": [
       "Text(0.5, 1.0, 'Median')"
      ]
     },
     "execution_count": 7,
     "metadata": {},
     "output_type": "execute_result"
    },
    {
     "data": {
      "image/png": "[encoded data removed]",
      "text/plain": [
       "<Figure size 432x288 with 1 Axes>"
      ]
     },
     "metadata": {
      "needs_background": "light"
     },
     "output_type": "display_data"
    }
   ],
   "source": [
    "positions = percentile_df.Position.unique()\n",
    "colors = ['#a6cee3','#1f78b4','#b2df8a','#33a02c','#fb9a99','#e31a1c','#fdbf6f','#ff7f00','#cab2d6','#6a3d9a','#ffff99']\n",
    "cmap = zip(positions, colors[0:len(positions)])  # zip values to colors\n",
    "\n",
    "for position, color in cmap:\n",
    "    plt_set = percentile_df[percentile_df.Position == position]\n",
    "    plt.plot(plt_set.dates, plt_set.Percentile_50, c=color)\n",
    "\n",
    "plt.legend(positions)\n",
    "plt.title('Median')\n",
    "## Definitely have some rating deflation. Not great"
   ]
  },
  {
   "cell_type": "code",
   "execution_count": 8,
   "metadata": {},
   "outputs": [
    {
     "data": {
      "text/plain": [
       "Text(0.5, 1.0, 'Mean')"
      ]
     },
     "execution_count": 8,
     "metadata": {},
     "output_type": "execute_result"
    },
    {
     "data": {
      "image/png": "[encoded data removed]",
      "text/plain": [
       "<Figure size 432x288 with 1 Axes>"
      ]
     },
     "metadata": {
      "needs_background": "light"
     },
     "output_type": "display_data"
    }
   ],
   "source": [
    "positions = percentile_df.Position.unique()\n",
    "colors = ['#a6cee3','#1f78b4','#b2df8a','#33a02c','#fb9a99','#e31a1c','#fdbf6f','#ff7f00','#cab2d6','#6a3d9a','#ffff99']\n",
    "cmap = zip(positions, colors[0:len(positions)])  # zip values to colors\n",
    "\n",
    "for position, color in cmap:\n",
    "    plt_set = percentile_df[percentile_df.Position == position]\n",
    "    plt.plot(plt_set.dates, plt_set.elo_mean, c=color)\n",
    "\n",
    "plt.legend(positions)\n",
    "plt.title('Mean')"
   ]
  },
  {
   "cell_type": "code",
   "execution_count": 33,
   "metadata": {},
   "outputs": [
    {
     "data": {
      "text/plain": [
       "Index(['home_team_name', 'away_team_name', 'home_team', 'away_team', 'name',\n",
       "       'date', 'competition', 'comp_level', 'GLOBAL_home_advantage',\n",
       "       'GLOBAL_score_factor', 'GLOBAL_k', 'GLOBAL_mov_score_add',\n",
       "       'GLOBAL_mov_score_mult', 'GLOBAL_mov_elo_add', 'GLOBAL_mov_elo_mult',\n",
       "       'commentary_df', 'lineup_home_elo', 'lineup_away_elo',\n",
       "       'lineup_elo_diff', 'lineup_spread', 'lineup_prediction', 'home_elo',\n",
       "       'away_elo', 'elo_diff', 'spread', 'prediction', 'home_score',\n",
       "       'away_score', 'point_diff', 'spread_weighted_diff', 'mov_mod',\n",
       "       'elo_change'],\n",
       "      dtype='object')"
      ]
     },
     "execution_count": 33,
     "metadata": {},
     "output_type": "execute_result"
    }
   ],
   "source": [
    "match_df.columns"
   ]
  },
  {
   "cell_type": "code",
   "execution_count": 126,
   "metadata": {},
   "outputs": [],
   "source": [
    "club_name = 'South Africa'\n",
    "club_match_names = [x['Match_Name'] for x in teamlist[club_name].history]\n",
    "club_matches = match_df[match_df.name.isin(club_match_names)].copy()\n",
    "\n",
    "is_home = club_matches.home_team_name == club_name\n",
    "club_matches['Location'] = np.where(is_home, 'home', 'away')\n",
    "club_matches['opponent'] = np.where(is_home, club_matches.away_team_name, club_matches.home_team_name)\n",
    "club_matches['team'] = np.where(is_home, club_matches.home_team, club_matches.away_team)\n",
    "club_matches['opponent_team'] = np.where(is_home, club_matches.away_team, club_matches.home_team)\n",
    "club_matches['lineup_elo'] = np.where(is_home, club_matches.lineup_home_elo, club_matches.lineup_away_elo)\n",
    "club_matches['opponent_lineup_elo'] = np.where(is_home, club_matches.lineup_away_elo, club_matches.lineup_home_elo)\n",
    "club_matches['elo'] = np.where(is_home, club_matches.home_elo, club_matches.away_elo)\n",
    "club_matches['opponent_elo'] = np.where(is_home, club_matches.away_elo, club_matches.home_elo)\n",
    "club_matches['score'] = np.where(is_home, club_matches.home_score, club_matches.away_score)\n",
    "club_matches['opponent_score'] = np.where(is_home, club_matches.away_score, club_matches.home_score)\n",
    "\n",
    "for col in ['lineup_elo_diff', 'lineup_spread', 'lineup_prediction', 'elo_diff',\n",
    "       'spread', 'point_diff', 'spread_weighted_diff', 'mov_mod',\n",
    "       'elo_change']:\n",
    "    club_matches[col] = np.where(is_home, club_matches[col], club_matches[col] * -1)\n",
    "\n",
    "club_matches['prediction'] = np.where(is_home, club_matches['prediction'], 1 - club_matches['prediction'])\n",
    "club_matches = club_matches[[x for x in club_matches.columns if \"GLOBAL\" not in x and \"home\" not in x and \"away\" not in x]]"
   ]
  },
  {
   "cell_type": "code",
   "execution_count": 127,
   "metadata": {},
   "outputs": [],
   "source": [
    "player_names = []\n",
    "player_minutes = []\n",
    "\n",
    "for lineup in club_matches.team:\n",
    "    for player in lineup:\n",
    "        player_names.append(player[1])\n",
    "        player_minutes.append(player[-6])\n",
    "\n",
    "player_df = pd.DataFrame({'Player': player_names, 'Minutes': player_minutes})\n",
    "player_appearances = player_df.groupby('Player').Minutes.agg(['count', 'sum']).reset_index()"
   ]
  },
  {
   "cell_type": "code",
   "execution_count": 128,
   "metadata": {},
   "outputs": [
    {
     "data": {
      "text/html": [
       "<div>\n",
       "<style scoped>\n",
       "    .dataframe tbody tr th:only-of-type {\n",
       "        vertical-align: middle;\n",
       "    }\n",
       "\n",
       "    .dataframe tbody tr th {\n",
       "        vertical-align: top;\n",
       "    }\n",
       "\n",
       "    .dataframe thead th {\n",
       "        text-align: right;\n",
       "    }\n",
       "</style>\n",
       "<table border=\"1\" class=\"dataframe\">\n",
       "  <thead>\n",
       "    <tr style=\"text-align: right;\">\n",
       "      <th></th>\n",
       "      <th>Player</th>\n",
       "      <th>count</th>\n",
       "      <th>sum</th>\n",
       "    </tr>\n",
       "  </thead>\n",
       "  <tbody>\n",
       "    <tr>\n",
       "      <th>158</th>\n",
       "      <td>Tendai Mtawarira</td>\n",
       "      <td>102</td>\n",
       "      <td>6010.0</td>\n",
       "    </tr>\n",
       "    <tr>\n",
       "      <th>45</th>\n",
       "      <td>Eben Etzebeth</td>\n",
       "      <td>89</td>\n",
       "      <td>6225.0</td>\n",
       "    </tr>\n",
       "    <tr>\n",
       "      <th>155</th>\n",
       "      <td>Siya Kolisi</td>\n",
       "      <td>89</td>\n",
       "      <td>6049.0</td>\n",
       "    </tr>\n",
       "    <tr>\n",
       "      <th>35</th>\n",
       "      <td>Damian de Allende</td>\n",
       "      <td>85</td>\n",
       "      <td>5838.0</td>\n",
       "    </tr>\n",
       "    <tr>\n",
       "      <th>171</th>\n",
       "      <td>Willie le Roux</td>\n",
       "      <td>84</td>\n",
       "      <td>6044.0</td>\n",
       "    </tr>\n",
       "  </tbody>\n",
       "</table>\n",
       "</div>"
      ],
      "text/plain": [
       "                Player  count     sum\n",
       "158   Tendai Mtawarira    102  6010.0\n",
       "45       Eben Etzebeth     89  6225.0\n",
       "155        Siya Kolisi     89  6049.0\n",
       "35   Damian de Allende     85  5838.0\n",
       "171     Willie le Roux     84  6044.0"
      ]
     },
     "execution_count": 128,
     "metadata": {},
     "output_type": "execute_result"
    }
   ],
   "source": [
    "player_appearances = player_df.groupby('Player').Minutes.agg(['count', 'sum']).reset_index()#.sort_values('count', ascending=False)\n",
    "player_appearances.sort_values('count', ascending=False).head()"
   ]
  },
  {
   "cell_type": "code",
   "execution_count": 129,
   "metadata": {},
   "outputs": [
    {
     "data": {
      "text/html": [
       "<div>\n",
       "<style scoped>\n",
       "    .dataframe tbody tr th:only-of-type {\n",
       "        vertical-align: middle;\n",
       "    }\n",
       "\n",
       "    .dataframe tbody tr th {\n",
       "        vertical-align: top;\n",
       "    }\n",
       "\n",
       "    .dataframe thead th {\n",
       "        text-align: right;\n",
       "    }\n",
       "</style>\n",
       "<table border=\"1\" class=\"dataframe\">\n",
       "  <thead>\n",
       "    <tr style=\"text-align: right;\">\n",
       "      <th></th>\n",
       "      <th>Player</th>\n",
       "      <th>count</th>\n",
       "      <th>sum</th>\n",
       "    </tr>\n",
       "  </thead>\n",
       "  <tbody>\n",
       "    <tr>\n",
       "      <th>45</th>\n",
       "      <td>Eben Etzebeth</td>\n",
       "      <td>89</td>\n",
       "      <td>6225.0</td>\n",
       "    </tr>\n",
       "    <tr>\n",
       "      <th>155</th>\n",
       "      <td>Siya Kolisi</td>\n",
       "      <td>89</td>\n",
       "      <td>6049.0</td>\n",
       "    </tr>\n",
       "    <tr>\n",
       "      <th>171</th>\n",
       "      <td>Willie le Roux</td>\n",
       "      <td>84</td>\n",
       "      <td>6044.0</td>\n",
       "    </tr>\n",
       "    <tr>\n",
       "      <th>158</th>\n",
       "      <td>Tendai Mtawarira</td>\n",
       "      <td>102</td>\n",
       "      <td>6010.0</td>\n",
       "    </tr>\n",
       "    <tr>\n",
       "      <th>35</th>\n",
       "      <td>Damian de Allende</td>\n",
       "      <td>85</td>\n",
       "      <td>5838.0</td>\n",
       "    </tr>\n",
       "  </tbody>\n",
       "</table>\n",
       "</div>"
      ],
      "text/plain": [
       "                Player  count     sum\n",
       "45       Eben Etzebeth     89  6225.0\n",
       "155        Siya Kolisi     89  6049.0\n",
       "171     Willie le Roux     84  6044.0\n",
       "158   Tendai Mtawarira    102  6010.0\n",
       "35   Damian de Allende     85  5838.0"
      ]
     },
     "execution_count": 129,
     "metadata": {},
     "output_type": "execute_result"
    }
   ],
   "source": [
    "player_appearances.sort_values('sum', ascending=False).head()"
   ]
  },
  {
   "cell_type": "code",
   "execution_count": null,
   "metadata": {},
   "outputs": [],
   "source": []
  }
 ],
 "metadata": {
  "kernelspec": {
   "display_name": "Python 3.10.4 64-bit",
   "language": "python",
   "name": "python3"
  },
  "language_info": {
   "codemirror_mode": {
    "name": "ipython",
    "version": 3
   },
   "file_extension": ".py",
   "mimetype": "text/x-python",
   "name": "python",
   "nbconvert_exporter": "python",
   "pygments_lexer": "ipython3",
   "version": "3.10.4"
  },
  "orig_nbformat": 4,
  "vscode": {
   "interpreter": {
    "hash": "0f1516c099a61bd76220bbf2e59233284c44652fa392a0b70cf121052b4721ba"
   }
  }
 },
 "nbformat": 4,
 "nbformat_minor": 2
}
