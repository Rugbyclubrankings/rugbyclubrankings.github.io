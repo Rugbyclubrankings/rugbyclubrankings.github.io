{
 "cells": [
  {
   "cell_type": "code",
   "execution_count": 5,
   "metadata": {},
   "outputs": [],
   "source": [
    "import sys\n",
    "import yaml\n",
    "with open('..//secrets.yml', 'r') as file:\n",
    "    secrets = yaml.safe_load(file)\n",
    "sys.path.append(secrets['elo_proj_path'])"
   ]
  },
  {
   "cell_type": "code",
   "execution_count": 15,
   "metadata": {},
   "outputs": [],
   "source": [
    "from player_club_classes import team_elo, Player, Club, Match\n",
    "import pandas as pd\n",
    "import numpy as np\n",
    "import plotly.express as px\n",
    "import plotly.graph_objects as go\n",
    "import plotly\n",
    "import pickle\n",
    "import datetime\n",
    "\n",
    "from support_files.team_colors import team_color_dict\n",
    "team_colors = pd.DataFrame(team_color_dict).T\n",
    "team_colors.columns = ['Primary', 'Secondary']\n",
    "team_colors = team_colors.rename_axis('Team').reset_index()\n",
    "\n",
    "from plotly.validators.scatter.marker import SymbolValidator\n",
    "raw_symbols = SymbolValidator().values\n",
    "\n",
    "simple_symbols = [i for i in raw_symbols if str(i).isalpha()]\n",
    "\n",
    "with open('../../Rugby_ELO/processed_data/playerbase.pickle', 'rb') as handle:\n",
    "    playerbase = pickle.load(handle)\n",
    "with open('../../Rugby_ELO/processed_data/matchlist.pickle', 'rb') as handle:\n",
    "    matchlist = pickle.load(handle)\n",
    "with open('../../Rugby_ELO/processed_data/teamlist.pickle', 'rb') as handle:\n",
    "    teamlist = pickle.load(handle)"
   ]
  },
  {
   "cell_type": "code",
   "execution_count": 11,
   "metadata": {},
   "outputs": [],
   "source": [
    "player_elo_list = []\n",
    "for player_name, player in playerbase.items():\n",
    "    player_elo = pd.DataFrame(player.elo_list, columns = [\n",
    "        'Number', 'Full_Name', 'Team', 'Player', 'Position', 'Tries',\n",
    "        'Try Assists', 'Conversion Goals', 'Penalty Goals',\n",
    "        'Drop Goals Converted', 'Points', 'Passes', 'Runs', 'Meters Run',\n",
    "        'Clean Breaks', 'Defenders Beaten', 'Offload', 'Turnovers Conceded',\n",
    "        'Tackles', 'Missed Tackles', 'Lineouts Won', 'Penalties Conceded',\n",
    "        'Yellow Cards', 'Red Cards', 'espn_id_num', 'Competition', 'Date',\n",
    "        'Home Team', 'Home Score', 'Away Team', 'Away Score', 'Minutes',\n",
    "        'Position_Number', 'gameid', 'Unicode_ID', 'comp_level', 'start_elo', 'end_elo'\n",
    "       ])\n",
    "    player_elo['Full Name'] = player_name[0]\n",
    "    player_elo['Unicode_ID'] = player_name[1]\n",
    "    player_elo_list.append(player_elo)\n",
    "\n",
    "player_elo = pd.concat(player_elo_list).reset_index(drop=True)\n",
    "player_elo = pd.merge(player_elo, team_colors, on = 'Team', how = 'left')\n",
    "player_elo['elo_change'] = player_elo.end_elo - player_elo.start_elo\n",
    "player_elo.Date = pd.to_datetime(player_elo.Date)\n",
    "\n",
    "player_elo['week_num'] = player_elo['Date'].dt.isocalendar().week\n",
    "player_elo['month'] = player_elo['Date'].dt.month\n",
    "player_elo['year'] = player_elo['Date'].dt.year"
   ]
  },
  {
   "cell_type": "code",
   "execution_count": 89,
   "metadata": {},
   "outputs": [],
   "source": [
    "#monthly_percentiles\n",
    "from plot_functions import *\n",
    "\n",
    "starters = player_elo[player_elo.Position != 'R']\n",
    "starters = starters.dropna(subset=['Position'])\n",
    "last_date_of_months = player_elo.groupby(pd.Grouper(key=\"Date\", freq='M')).Date.max()\n",
    "percentile_list = []\n",
    "\n",
    "for date in last_date_of_months:\n",
    "    current_players = starters[starters.Date < date]\n",
    "    current_players = current_players[current_players.Date >= date - datetime.timedelta(days=365)]\n",
    "    current_players = current_players[current_players.groupby(['Full Name'])['Date'].transform(max) == current_players['Date']].copy()\n",
    "    percentile_df = current_players.groupby('Position')['end_elo'].quantile([0.1, 0.25, 0.5, 0.75, 0.9, 0.95]).reset_index()\n",
    "    percentile_df.columns = ['Position', 'Percentile', 'elo']\n",
    "    percentile_df = percentile_df.pivot(index = 'Position', columns = 'Percentile')\n",
    "    percentile_df.columns = [\"Percentile_\" + str(int(x*100)) for x in percentile_df.columns.droplevel()]\n",
    "    percentile_df = percentile_df.reset_index()\n",
    "    percentile_df['year'] = date.year\n",
    "    percentile_df['month'] = date.month\n",
    "    percentile_list.append(percentile_df)\n",
    "    \n",
    "percentile_df = pd.concat(percentile_list)"
   ]
  },
  {
   "cell_type": "code",
   "execution_count": 90,
   "metadata": {},
   "outputs": [
    {
     "data": {
      "text/plain": [
       "[<matplotlib.lines.Line2D at 0x1fbbd626710>]"
      ]
     },
     "execution_count": 90,
     "metadata": {},
     "output_type": "execute_result"
    },
    {
     "data": {
      "image/png": "[encoded data removed]",
      "text/plain": [
       "<Figure size 432x288 with 1 Axes>"
      ]
     },
     "metadata": {
      "needs_background": "light"
     },
     "output_type": "display_data"
    }
   ],
   "source": [
    "player_df = player_elo[player_elo.Full_Name == 'Eben Etzebeth'].merge(percentile_df, how='left')\n",
    "plt.plot(player_df.Date, player_df['end_elo'])\n",
    "plt.plot(player_df.Date, player_df['Percentile_50'])"
   ]
  },
  {
   "cell_type": "code",
   "execution_count": 96,
   "metadata": {},
   "outputs": [
    {
     "data": {
      "text/plain": [
       "Top 14 Orange 2021                   16\n",
       "Super Rugby Pacific 2012             13\n",
       "Super Rugby Pacific 2017             13\n",
       "Super Rugby Pacific 2015             11\n",
       "Top 14 Orange 2022                    9\n",
       "Super Rugby Pacific 2016              9\n",
       "Rugby Championship 2018               9\n",
       "Super Rugby Pacific 2013              8\n",
       "Super Rugby Pacific 2019              8\n",
       "Rugby World Cup 2019                  7\n",
       "Rugby World Cup 2015                  7\n",
       "Friendly 2017                         7\n",
       "Rugby Championship 2017               6\n",
       "Rugby Championship 2014               6\n",
       "Rugby Championship 2013               6\n",
       "Rugby Championship 2016               6\n",
       "Rugby Championship 2022               5\n",
       "Rugby Championship 2021               5\n",
       "Friendly 2021                         5\n",
       "Top 14 Orange 2020                    5\n",
       "European Rugby Challenge Cup 2020     4\n",
       "Rugby Championship 2012               4\n",
       "Rugby Championship 2015               3\n",
       "Ireland tour 2016 2016                3\n",
       "International Test Match 2022         3\n",
       "Friendly 2018                         2\n",
       "British and Irish Lions Tour 2021     2\n",
       "Friendly 2019                         1\n",
       "Currie Cup 2014                       1\n",
       "South Africa tour 2016 2016           1\n",
       "Name: Competition, dtype: int64"
      ]
     },
     "execution_count": 96,
     "metadata": {},
     "output_type": "execute_result"
    }
   ],
   "source": [
    "player_df.Competition.value_counts()"
   ]
  },
  {
   "cell_type": "code",
   "execution_count": 95,
   "metadata": {},
   "outputs": [
    {
     "data": {
      "text/plain": [
       "[<matplotlib.lines.Line2D at 0x1fbbf54b5b0>]"
      ]
     },
     "execution_count": 95,
     "metadata": {},
     "output_type": "execute_result"
    },
    {
     "data": {
      "image/png": "[encoded data removed]",
      "text/plain": [
       "<Figure size 432x288 with 1 Axes>"
      ]
     },
     "metadata": {
      "needs_background": "light"
     },
     "output_type": "display_data"
    }
   ],
   "source": [
    "fig, ax = plt.subplots()\n",
    "\n",
    "for _, sub1 in player_df.groupby('Team'):\n",
    "    for _, team_subset in sub1.groupby('Competition'):\n",
    "        ax.plot(team_subset.Date, team_subset.end_elo, color=team_subset.Primary.iloc[0], lw=3, path_effects=[pe.Stroke(linewidth=5, foreground=team_subset.Secondary.iloc[0]), pe.Normal()])\n",
    "ax.plot(player_df.Date, player_df.Percentile_50, color = 'gray')"
   ]
  },
  {
   "cell_type": "code",
   "execution_count": 94,
   "metadata": {},
   "outputs": [
    {
     "data": {
      "text/plain": [
       "Index(['Number', 'Full_Name', 'Team', 'Player', 'Position', 'Tries',\n",
       "       'Try Assists', 'Conversion Goals', 'Penalty Goals',\n",
       "       'Drop Goals Converted', 'Points', 'Passes', 'Runs', 'Meters Run',\n",
       "       'Clean Breaks', 'Defenders Beaten', 'Offload', 'Turnovers Conceded',\n",
       "       'Tackles', 'Missed Tackles', 'Lineouts Won', 'Penalties Conceded',\n",
       "       'Yellow Cards', 'Red Cards', 'espn_id_num', 'Competition', 'Date',\n",
       "       'Home Team', 'Home Score', 'Away Team', 'Away Score', 'Minutes',\n",
       "       'Position_Number', 'gameid', 'Unicode_ID', 'comp_level', 'start_elo',\n",
       "       'end_elo', 'Full Name', 'Primary', 'Secondary', 'elo_change',\n",
       "       'week_num', 'month', 'year', 'Percentile_10', 'Percentile_25',\n",
       "       'Percentile_50', 'Percentile_75', 'Percentile_90', 'Percentile_95'],\n",
       "      dtype='object')"
      ]
     },
     "execution_count": 94,
     "metadata": {},
     "output_type": "execute_result"
    }
   ],
   "source": [
    "player_df.columns"
   ]
  },
  {
   "cell_type": "code",
   "execution_count": null,
   "metadata": {},
   "outputs": [],
   "source": []
  },
  {
   "cell_type": "code",
   "execution_count": null,
   "metadata": {},
   "outputs": [],
   "source": []
  },
  {
   "cell_type": "code",
   "execution_count": null,
   "metadata": {},
   "outputs": [],
   "source": []
  },
  {
   "cell_type": "code",
   "execution_count": 12,
   "metadata": {},
   "outputs": [
    {
     "data": {
      "text/html": [
       "<div>\n",
       "<style scoped>\n",
       "    .dataframe tbody tr th:only-of-type {\n",
       "        vertical-align: middle;\n",
       "    }\n",
       "\n",
       "    .dataframe tbody tr th {\n",
       "        vertical-align: top;\n",
       "    }\n",
       "\n",
       "    .dataframe thead th {\n",
       "        text-align: right;\n",
       "    }\n",
       "</style>\n",
       "<table border=\"1\" class=\"dataframe\">\n",
       "  <thead>\n",
       "    <tr style=\"text-align: right;\">\n",
       "      <th></th>\n",
       "      <th>Number</th>\n",
       "      <th>Full_Name</th>\n",
       "      <th>Team</th>\n",
       "      <th>Player</th>\n",
       "      <th>Position</th>\n",
       "      <th>Tries</th>\n",
       "      <th>Try Assists</th>\n",
       "      <th>Conversion Goals</th>\n",
       "      <th>Penalty Goals</th>\n",
       "      <th>Drop Goals Converted</th>\n",
       "      <th>...</th>\n",
       "      <th>comp_level</th>\n",
       "      <th>start_elo</th>\n",
       "      <th>end_elo</th>\n",
       "      <th>Full Name</th>\n",
       "      <th>Primary</th>\n",
       "      <th>Secondary</th>\n",
       "      <th>elo_change</th>\n",
       "      <th>week_num</th>\n",
       "      <th>month</th>\n",
       "      <th>year</th>\n",
       "    </tr>\n",
       "  </thead>\n",
       "  <tbody>\n",
       "    <tr>\n",
       "      <th>0</th>\n",
       "      <td>15.0</td>\n",
       "      <td>Nick Abendanon</td>\n",
       "      <td>Bath Rugby</td>\n",
       "      <td>N Abendanon</td>\n",
       "      <td>FB</td>\n",
       "      <td>0.0</td>\n",
       "      <td>0.0</td>\n",
       "      <td>0.0</td>\n",
       "      <td>0.0</td>\n",
       "      <td>0.0</td>\n",
       "      <td>...</td>\n",
       "      <td>Pro1</td>\n",
       "      <td>100.000000</td>\n",
       "      <td>100.000000</td>\n",
       "      <td>Nick Abendanon</td>\n",
       "      <td>#053991</td>\n",
       "      <td>#151415</td>\n",
       "      <td>0.000000</td>\n",
       "      <td>1</td>\n",
       "      <td>1</td>\n",
       "      <td>2008</td>\n",
       "    </tr>\n",
       "    <tr>\n",
       "      <th>1</th>\n",
       "      <td>15.0</td>\n",
       "      <td>Nick Abendanon</td>\n",
       "      <td>Bath Rugby</td>\n",
       "      <td>N Abendanon</td>\n",
       "      <td>FB</td>\n",
       "      <td>0.0</td>\n",
       "      <td>0.0</td>\n",
       "      <td>0.0</td>\n",
       "      <td>0.0</td>\n",
       "      <td>0.0</td>\n",
       "      <td>...</td>\n",
       "      <td>Pro1</td>\n",
       "      <td>100.000000</td>\n",
       "      <td>98.883375</td>\n",
       "      <td>Nick Abendanon</td>\n",
       "      <td>#053991</td>\n",
       "      <td>#151415</td>\n",
       "      <td>-1.116625</td>\n",
       "      <td>4</td>\n",
       "      <td>1</td>\n",
       "      <td>2008</td>\n",
       "    </tr>\n",
       "    <tr>\n",
       "      <th>2</th>\n",
       "      <td>15.0</td>\n",
       "      <td>Nick Abendanon</td>\n",
       "      <td>Bath Rugby</td>\n",
       "      <td>N Abendanon</td>\n",
       "      <td>FB</td>\n",
       "      <td>0.0</td>\n",
       "      <td>0.0</td>\n",
       "      <td>0.0</td>\n",
       "      <td>0.0</td>\n",
       "      <td>0.0</td>\n",
       "      <td>...</td>\n",
       "      <td>Pro1</td>\n",
       "      <td>98.883375</td>\n",
       "      <td>96.962164</td>\n",
       "      <td>Nick Abendanon</td>\n",
       "      <td>#053991</td>\n",
       "      <td>#151415</td>\n",
       "      <td>-1.921211</td>\n",
       "      <td>7</td>\n",
       "      <td>2</td>\n",
       "      <td>2008</td>\n",
       "    </tr>\n",
       "    <tr>\n",
       "      <th>3</th>\n",
       "      <td>15.0</td>\n",
       "      <td>Nick Abendanon</td>\n",
       "      <td>Bath Rugby</td>\n",
       "      <td>N Abendanon</td>\n",
       "      <td>FB</td>\n",
       "      <td>0.0</td>\n",
       "      <td>0.0</td>\n",
       "      <td>0.0</td>\n",
       "      <td>0.0</td>\n",
       "      <td>0.0</td>\n",
       "      <td>...</td>\n",
       "      <td>Pro1</td>\n",
       "      <td>96.962164</td>\n",
       "      <td>99.450195</td>\n",
       "      <td>Nick Abendanon</td>\n",
       "      <td>#053991</td>\n",
       "      <td>#151415</td>\n",
       "      <td>2.488031</td>\n",
       "      <td>8</td>\n",
       "      <td>2</td>\n",
       "      <td>2008</td>\n",
       "    </tr>\n",
       "    <tr>\n",
       "      <th>4</th>\n",
       "      <td>15.0</td>\n",
       "      <td>Nick Abendanon</td>\n",
       "      <td>Bath Rugby</td>\n",
       "      <td>N Abendanon</td>\n",
       "      <td>FB</td>\n",
       "      <td>0.0</td>\n",
       "      <td>0.0</td>\n",
       "      <td>0.0</td>\n",
       "      <td>0.0</td>\n",
       "      <td>0.0</td>\n",
       "      <td>...</td>\n",
       "      <td>Pro1</td>\n",
       "      <td>99.450195</td>\n",
       "      <td>98.231870</td>\n",
       "      <td>Nick Abendanon</td>\n",
       "      <td>#053991</td>\n",
       "      <td>#151415</td>\n",
       "      <td>-1.218325</td>\n",
       "      <td>11</td>\n",
       "      <td>3</td>\n",
       "      <td>2008</td>\n",
       "    </tr>\n",
       "  </tbody>\n",
       "</table>\n",
       "<p>5 rows × 45 columns</p>\n",
       "</div>"
      ],
      "text/plain": [
       "   Number       Full_Name        Team       Player Position  Tries  \\\n",
       "0    15.0  Nick Abendanon  Bath Rugby  N Abendanon       FB    0.0   \n",
       "1    15.0  Nick Abendanon  Bath Rugby  N Abendanon       FB    0.0   \n",
       "2    15.0  Nick Abendanon  Bath Rugby  N Abendanon       FB    0.0   \n",
       "3    15.0  Nick Abendanon  Bath Rugby  N Abendanon       FB    0.0   \n",
       "4    15.0  Nick Abendanon  Bath Rugby  N Abendanon       FB    0.0   \n",
       "\n",
       "   Try Assists  Conversion Goals  Penalty Goals  Drop Goals Converted  ...  \\\n",
       "0          0.0               0.0            0.0                   0.0  ...   \n",
       "1          0.0               0.0            0.0                   0.0  ...   \n",
       "2          0.0               0.0            0.0                   0.0  ...   \n",
       "3          0.0               0.0            0.0                   0.0  ...   \n",
       "4          0.0               0.0            0.0                   0.0  ...   \n",
       "\n",
       "   comp_level   start_elo     end_elo       Full Name  Primary  Secondary  \\\n",
       "0        Pro1  100.000000  100.000000  Nick Abendanon  #053991    #151415   \n",
       "1        Pro1  100.000000   98.883375  Nick Abendanon  #053991    #151415   \n",
       "2        Pro1   98.883375   96.962164  Nick Abendanon  #053991    #151415   \n",
       "3        Pro1   96.962164   99.450195  Nick Abendanon  #053991    #151415   \n",
       "4        Pro1   99.450195   98.231870  Nick Abendanon  #053991    #151415   \n",
       "\n",
       "   elo_change  week_num  month  year  \n",
       "0    0.000000         1      1  2008  \n",
       "1   -1.116625         4      1  2008  \n",
       "2   -1.921211         7      2  2008  \n",
       "3    2.488031         8      2  2008  \n",
       "4   -1.218325        11      3  2008  \n",
       "\n",
       "[5 rows x 45 columns]"
      ]
     },
     "execution_count": 12,
     "metadata": {},
     "output_type": "execute_result"
    }
   ],
   "source": [
    "## Player elo plot, have position percentiles over time as well?\n",
    "player_elo.head()"
   ]
  },
  {
   "cell_type": "code",
   "execution_count": null,
   "metadata": {},
   "outputs": [],
   "source": []
  },
  {
   "cell_type": "code",
   "execution_count": null,
   "metadata": {},
   "outputs": [],
   "source": []
  },
  {
   "cell_type": "code",
   "execution_count": null,
   "metadata": {},
   "outputs": [],
   "source": []
  },
  {
   "cell_type": "code",
   "execution_count": null,
   "metadata": {},
   "outputs": [],
   "source": []
  },
  {
   "cell_type": "code",
   "execution_count": 6,
   "metadata": {},
   "outputs": [
    {
     "name": "stderr",
     "output_type": "stream",
     "text": [
      "C:\\Users\\Graeham\\AppData\\Local\\Temp\\ipykernel_20984\\1572876672.py:9: SettingWithCopyWarning: \n",
      "A value is trying to be set on a copy of a slice from a DataFrame.\n",
      "Try using .loc[row_indexer,col_indexer] = value instead\n",
      "\n",
      "See the caveats in the documentation: https://pandas.pydata.org/pandas-docs/stable/user_guide/indexing.html#returning-a-view-versus-a-copy\n",
      "  current_players['percentile'] = np.floor(current_players.groupby('Position')['end_elo'].apply(percentile))\n"
     ]
    },
    {
     "data": {
      "text/html": [
       "<div>\n",
       "<style scoped>\n",
       "    .dataframe tbody tr th:only-of-type {\n",
       "        vertical-align: middle;\n",
       "    }\n",
       "\n",
       "    .dataframe tbody tr th {\n",
       "        vertical-align: top;\n",
       "    }\n",
       "\n",
       "    .dataframe thead th {\n",
       "        text-align: right;\n",
       "    }\n",
       "</style>\n",
       "<table border=\"1\" class=\"dataframe\">\n",
       "  <thead>\n",
       "    <tr style=\"text-align: right;\">\n",
       "      <th></th>\n",
       "      <th>Full_Name</th>\n",
       "      <th>Unicode_ID</th>\n",
       "      <th>percentile</th>\n",
       "    </tr>\n",
       "  </thead>\n",
       "  <tbody>\n",
       "    <tr>\n",
       "      <th>264</th>\n",
       "      <td>Nick Abendanon</td>\n",
       "      <td>55485151</td>\n",
       "      <td>97.0</td>\n",
       "    </tr>\n",
       "    <tr>\n",
       "      <th>401</th>\n",
       "      <td>Mike Tindall</td>\n",
       "      <td>49485155</td>\n",
       "      <td>81.0</td>\n",
       "    </tr>\n",
       "    <tr>\n",
       "      <th>550</th>\n",
       "      <td>Anthony Allen</td>\n",
       "      <td>55545151</td>\n",
       "      <td>82.0</td>\n",
       "    </tr>\n",
       "    <tr>\n",
       "      <th>568</th>\n",
       "      <td>James Bailey</td>\n",
       "      <td>53485349</td>\n",
       "      <td>38.0</td>\n",
       "    </tr>\n",
       "    <tr>\n",
       "      <th>800</th>\n",
       "      <td>Ryan Lamb</td>\n",
       "      <td>55515350</td>\n",
       "      <td>48.0</td>\n",
       "    </tr>\n",
       "    <tr>\n",
       "      <th>...</th>\n",
       "      <td>...</td>\n",
       "      <td>...</td>\n",
       "      <td>...</td>\n",
       "    </tr>\n",
       "    <tr>\n",
       "      <th>504376</th>\n",
       "      <td>Ignacio Peculo</td>\n",
       "      <td>1101119510111511211095105100327310311097991051...</td>\n",
       "      <td>5.0</td>\n",
       "    </tr>\n",
       "    <tr>\n",
       "      <th>504377</th>\n",
       "      <td>Ignacio Dotti</td>\n",
       "      <td>1101119510111511211095105100327310311097991051...</td>\n",
       "      <td>7.0</td>\n",
       "    </tr>\n",
       "    <tr>\n",
       "      <th>504380</th>\n",
       "      <td>Jordi Jorba</td>\n",
       "      <td>1101119510111511211095105100327411111410010532...</td>\n",
       "      <td>14.0</td>\n",
       "    </tr>\n",
       "    <tr>\n",
       "      <th>504381</th>\n",
       "      <td>Alejandro Alonso Munoz</td>\n",
       "      <td>1101119510111511211095105100326510810110697110...</td>\n",
       "      <td>14.0</td>\n",
       "    </tr>\n",
       "    <tr>\n",
       "      <th>504382</th>\n",
       "      <td>Vicente del Hoyo</td>\n",
       "      <td>1101119510111511211095105100328610599101110116...</td>\n",
       "      <td>11.0</td>\n",
       "    </tr>\n",
       "  </tbody>\n",
       "</table>\n",
       "<p>10244 rows × 3 columns</p>\n",
       "</div>"
      ],
      "text/plain": [
       "                     Full_Name  \\\n",
       "264             Nick Abendanon   \n",
       "401               Mike Tindall   \n",
       "550              Anthony Allen   \n",
       "568               James Bailey   \n",
       "800                  Ryan Lamb   \n",
       "...                        ...   \n",
       "504376          Ignacio Peculo   \n",
       "504377           Ignacio Dotti   \n",
       "504380             Jordi Jorba   \n",
       "504381  Alejandro Alonso Munoz   \n",
       "504382        Vicente del Hoyo   \n",
       "\n",
       "                                               Unicode_ID  percentile  \n",
       "264                                              55485151        97.0  \n",
       "401                                              49485155        81.0  \n",
       "550                                              55545151        82.0  \n",
       "568                                              53485349        38.0  \n",
       "800                                              55515350        48.0  \n",
       "...                                                   ...         ...  \n",
       "504376  1101119510111511211095105100327310311097991051...         5.0  \n",
       "504377  1101119510111511211095105100327310311097991051...         7.0  \n",
       "504380  1101119510111511211095105100327411111410010532...        14.0  \n",
       "504381  1101119510111511211095105100326510810110697110...        14.0  \n",
       "504382  1101119510111511211095105100328610599101110116...        11.0  \n",
       "\n",
       "[10244 rows x 3 columns]"
      ]
     },
     "execution_count": 6,
     "metadata": {},
     "output_type": "execute_result"
    }
   ],
   "source": [
    "def percentile(group):\n",
    "    sz = group.size-1\n",
    "    ranks = group.rank(method='max')\n",
    "    return np.floor(100.0*(ranks-1)/sz)\n",
    "\n",
    "starters = player_elo[player_elo.Position != 'R']\n",
    "starters = starters.dropna(subset=['Position'])\n",
    "current_players = starters[starters.groupby(['Full Name'])['Date'].transform(max) == starters['Date']]\n",
    "current_players['percentile'] = np.floor(current_players.groupby('Position')['end_elo'].apply(percentile))\n",
    "current_players = current_players[['Full_Name', 'Unicode_ID', 'percentile']]\n",
    "current_players"
   ]
  },
  {
   "cell_type": "code",
   "execution_count": 7,
   "metadata": {},
   "outputs": [],
   "source": [
    "match_list = []\n",
    "for _, match in matchlist.items():\n",
    "    match_list.append({key:val for key, val in vars(match).items()})"
   ]
  },
  {
   "cell_type": "code",
   "execution_count": 16,
   "metadata": {},
   "outputs": [
    {
     "name": "stdout",
     "output_type": "stream",
     "text": [
      "France at Japan\n",
      "Wales at South Africa\n",
      "Scotland at Argentina\n",
      "Argentina at Portugal\n",
      "Ireland at New Zealand\n",
      "England at Australia\n",
      "Romania at Uruguay\n",
      "Spain at Canada\n",
      "Italy at Georgia\n"
     ]
    },
    {
     "data": {
      "text/plain": [
       "[None, None, None, None, None, None, None, None, None]"
      ]
     },
     "execution_count": 16,
     "metadata": {},
     "output_type": "execute_result"
    }
   ],
   "source": [
    "import datetime\n",
    "\n",
    "recent_games = [x for x in match_list if datetime.datetime.now() > x['date'] > datetime.datetime.now() - datetime.timedelta(days=7)]\n",
    "[print(f'{x[\"away_team_name\"]} at {x[\"home_team_name\"]}') for x in recent_games]\n"
   ]
  },
  {
   "cell_type": "code",
   "execution_count": 45,
   "metadata": {},
   "outputs": [
    {
     "data": {
      "text/plain": [
       "1675.7560946117012"
      ]
     },
     "execution_count": 45,
     "metadata": {},
     "output_type": "execute_result"
    }
   ],
   "source": [
    "recent_game['home_elo']"
   ]
  },
  {
   "cell_type": "code",
   "execution_count": 46,
   "metadata": {},
   "outputs": [
    {
     "data": {
      "text/html": [
       "<div>\n",
       "<style scoped>\n",
       "    .dataframe tbody tr th:only-of-type {\n",
       "        vertical-align: middle;\n",
       "    }\n",
       "\n",
       "    .dataframe tbody tr th {\n",
       "        vertical-align: top;\n",
       "    }\n",
       "\n",
       "    .dataframe thead th {\n",
       "        text-align: right;\n",
       "    }\n",
       "</style>\n",
       "<table border=\"1\" class=\"dataframe\">\n",
       "  <thead>\n",
       "    <tr style=\"text-align: right;\">\n",
       "      <th></th>\n",
       "      <th>Away Minutes</th>\n",
       "      <th>Away Player</th>\n",
       "      <th>Away elo</th>\n",
       "      <th>Away Percentile</th>\n",
       "      <th>Number</th>\n",
       "      <th>Home Percentile</th>\n",
       "      <th>Home elo</th>\n",
       "      <th>Home Player</th>\n",
       "      <th>Home Minutes</th>\n",
       "    </tr>\n",
       "  </thead>\n",
       "  <tbody>\n",
       "    <tr>\n",
       "      <th>7</th>\n",
       "      <td>65.0</td>\n",
       "      <td>Andrew Porter</td>\n",
       "      <td>105.791011</td>\n",
       "      <td>89.0</td>\n",
       "      <td>1.0</td>\n",
       "      <td>23.0</td>\n",
       "      <td>93.745562</td>\n",
       "      <td>George Bower</td>\n",
       "      <td>64.0</td>\n",
       "    </tr>\n",
       "    <tr>\n",
       "      <th>2</th>\n",
       "      <td>64.0</td>\n",
       "      <td>Dan Sheehan</td>\n",
       "      <td>81.261693</td>\n",
       "      <td>13.0</td>\n",
       "      <td>2.0</td>\n",
       "      <td>66.0</td>\n",
       "      <td>101.597315</td>\n",
       "      <td>Codie Taylor</td>\n",
       "      <td>57.0</td>\n",
       "    </tr>\n",
       "    <tr>\n",
       "      <th>4</th>\n",
       "      <td>65.0</td>\n",
       "      <td>Tadhg Furlong</td>\n",
       "      <td>103.024992</td>\n",
       "      <td>84.0</td>\n",
       "      <td>3.0</td>\n",
       "      <td>94.0</td>\n",
       "      <td>113.700592</td>\n",
       "      <td>Ofa Tu'ungafasi</td>\n",
       "      <td>81.0</td>\n",
       "    </tr>\n",
       "    <tr>\n",
       "      <th>3</th>\n",
       "      <td>81.0</td>\n",
       "      <td>Tadhg Beirne</td>\n",
       "      <td>108.25333</td>\n",
       "      <td>90.0</td>\n",
       "      <td>4.0</td>\n",
       "      <td>98.0</td>\n",
       "      <td>126.019121</td>\n",
       "      <td>Brodie Retallick</td>\n",
       "      <td>69.0</td>\n",
       "    </tr>\n",
       "    <tr>\n",
       "      <th>6</th>\n",
       "      <td>69.0</td>\n",
       "      <td>James Ryan</td>\n",
       "      <td>100.072725</td>\n",
       "      <td>73.0</td>\n",
       "      <td>5.0</td>\n",
       "      <td>95.0</td>\n",
       "      <td>117.793807</td>\n",
       "      <td>Scott Barrett</td>\n",
       "      <td>74.0</td>\n",
       "    </tr>\n",
       "    <tr>\n",
       "      <th>8</th>\n",
       "      <td>76.0</td>\n",
       "      <td>Peter O'Mahony</td>\n",
       "      <td>105.402545</td>\n",
       "      <td>89.0</td>\n",
       "      <td>6.0</td>\n",
       "      <td>89.0</td>\n",
       "      <td>108.457896</td>\n",
       "      <td>Dalton Papalii</td>\n",
       "      <td>59.0</td>\n",
       "    </tr>\n",
       "    <tr>\n",
       "      <th>15</th>\n",
       "      <td>81.0</td>\n",
       "      <td>Josh van der Flier</td>\n",
       "      <td>120.38603</td>\n",
       "      <td>98.0</td>\n",
       "      <td>7.0</td>\n",
       "      <td>99.0</td>\n",
       "      <td>125.56057</td>\n",
       "      <td>Sam Cane</td>\n",
       "      <td>81.0</td>\n",
       "    </tr>\n",
       "    <tr>\n",
       "      <th>5</th>\n",
       "      <td>69.0</td>\n",
       "      <td>Caelan Doris</td>\n",
       "      <td>96.760505</td>\n",
       "      <td>55.0</td>\n",
       "      <td>8.0</td>\n",
       "      <td>87.0</td>\n",
       "      <td>111.091316</td>\n",
       "      <td>Ardie Savea</td>\n",
       "      <td>33.0</td>\n",
       "    </tr>\n",
       "    <tr>\n",
       "      <th>1</th>\n",
       "      <td>69.0</td>\n",
       "      <td>Jamison Gibson-Park</td>\n",
       "      <td>112.194505</td>\n",
       "      <td>95.0</td>\n",
       "      <td>9.0</td>\n",
       "      <td>94.0</td>\n",
       "      <td>113.885827</td>\n",
       "      <td>Aaron Smith</td>\n",
       "      <td>62.0</td>\n",
       "    </tr>\n",
       "    <tr>\n",
       "      <th>14</th>\n",
       "      <td>74.0</td>\n",
       "      <td>Johnny Sexton</td>\n",
       "      <td>128.806876</td>\n",
       "      <td>99.0</td>\n",
       "      <td>10.0</td>\n",
       "      <td>98.0</td>\n",
       "      <td>124.983873</td>\n",
       "      <td>Beauden Barrett</td>\n",
       "      <td>57.0</td>\n",
       "    </tr>\n",
       "    <tr>\n",
       "      <th>13</th>\n",
       "      <td>81.0</td>\n",
       "      <td>James Lowe</td>\n",
       "      <td>139.603385</td>\n",
       "      <td>99.0</td>\n",
       "      <td>11.0</td>\n",
       "      <td>31.0</td>\n",
       "      <td>93.828109</td>\n",
       "      <td>Leicester Fainga'anuku</td>\n",
       "      <td>50.0</td>\n",
       "    </tr>\n",
       "    <tr>\n",
       "      <th>12</th>\n",
       "      <td>81.0</td>\n",
       "      <td>Robbie Henshaw</td>\n",
       "      <td>120.057361</td>\n",
       "      <td>98.0</td>\n",
       "      <td>12.0</td>\n",
       "      <td>59.0</td>\n",
       "      <td>100.803302</td>\n",
       "      <td>Quinn Tupaea</td>\n",
       "      <td>81.0</td>\n",
       "    </tr>\n",
       "    <tr>\n",
       "      <th>22</th>\n",
       "      <td>31.0</td>\n",
       "      <td>Garry Ringrose</td>\n",
       "      <td>120.806235</td>\n",
       "      <td>98.0</td>\n",
       "      <td>13.0</td>\n",
       "      <td>46.0</td>\n",
       "      <td>98.930789</td>\n",
       "      <td>Rieko Ioane</td>\n",
       "      <td>81.0</td>\n",
       "    </tr>\n",
       "    <tr>\n",
       "      <th>10</th>\n",
       "      <td>81.0</td>\n",
       "      <td>Mack Hansen</td>\n",
       "      <td>85.048561</td>\n",
       "      <td>21.0</td>\n",
       "      <td>14.0</td>\n",
       "      <td>98.0</td>\n",
       "      <td>124.733548</td>\n",
       "      <td>Sevu Reece</td>\n",
       "      <td>81.0</td>\n",
       "    </tr>\n",
       "    <tr>\n",
       "      <th>9</th>\n",
       "      <td>81.0</td>\n",
       "      <td>Hugo Keenan</td>\n",
       "      <td>114.287857</td>\n",
       "      <td>96.0</td>\n",
       "      <td>15.0</td>\n",
       "      <td>94.0</td>\n",
       "      <td>114.84011</td>\n",
       "      <td>Jordie Barrett</td>\n",
       "      <td>81.0</td>\n",
       "    </tr>\n",
       "    <tr>\n",
       "      <th>16</th>\n",
       "      <td>17.0</td>\n",
       "      <td>Rob Herring</td>\n",
       "      <td>113.168433</td>\n",
       "      <td>95.0</td>\n",
       "      <td>16.0</td>\n",
       "      <td>91.0</td>\n",
       "      <td>108.213964</td>\n",
       "      <td>Samisoni Taukei'aho</td>\n",
       "      <td>24.0</td>\n",
       "    </tr>\n",
       "    <tr>\n",
       "      <th>17</th>\n",
       "      <td>16.0</td>\n",
       "      <td>Cian Healy</td>\n",
       "      <td>123.015677</td>\n",
       "      <td>99.0</td>\n",
       "      <td>17.0</td>\n",
       "      <td>93.0</td>\n",
       "      <td>109.519737</td>\n",
       "      <td>Aidan Ross</td>\n",
       "      <td>20.0</td>\n",
       "    </tr>\n",
       "    <tr>\n",
       "      <th>18</th>\n",
       "      <td>16.0</td>\n",
       "      <td>Finlay Bealham</td>\n",
       "      <td>104.246182</td>\n",
       "      <td>83.0</td>\n",
       "      <td>18.0</td>\n",
       "      <td>98.0</td>\n",
       "      <td>118.643427</td>\n",
       "      <td>Angus Ta'avao</td>\n",
       "      <td>55.0</td>\n",
       "    </tr>\n",
       "    <tr>\n",
       "      <th>19</th>\n",
       "      <td>12.0</td>\n",
       "      <td>Kieran Treadwell</td>\n",
       "      <td>104.592103</td>\n",
       "      <td>82.0</td>\n",
       "      <td>19.0</td>\n",
       "      <td>91.0</td>\n",
       "      <td>110.155498</td>\n",
       "      <td>Patrick Tuipulotu</td>\n",
       "      <td>19.0</td>\n",
       "    </tr>\n",
       "    <tr>\n",
       "      <th>20</th>\n",
       "      <td>17.0</td>\n",
       "      <td>Jack Conan</td>\n",
       "      <td>120.402854</td>\n",
       "      <td>97.0</td>\n",
       "      <td>20.0</td>\n",
       "      <td>78.0</td>\n",
       "      <td>105.241853</td>\n",
       "      <td>Pita Gus Sowakula</td>\n",
       "      <td>12.0</td>\n",
       "    </tr>\n",
       "    <tr>\n",
       "      <th>21</th>\n",
       "      <td>12.0</td>\n",
       "      <td>Conor Murray</td>\n",
       "      <td>111.793319</td>\n",
       "      <td>93.0</td>\n",
       "      <td>21.0</td>\n",
       "      <td>8.0</td>\n",
       "      <td>79.897453</td>\n",
       "      <td>Folau Fakatava</td>\n",
       "      <td>19.0</td>\n",
       "    </tr>\n",
       "    <tr>\n",
       "      <th>0</th>\n",
       "      <td>7.0</td>\n",
       "      <td>Joey Carbery</td>\n",
       "      <td>97.246607</td>\n",
       "      <td>59.0</td>\n",
       "      <td>22.0</td>\n",
       "      <td>99.0</td>\n",
       "      <td>125.296796</td>\n",
       "      <td>Richie Mo'unga</td>\n",
       "      <td>24.0</td>\n",
       "    </tr>\n",
       "    <tr>\n",
       "      <th>11</th>\n",
       "      <td>50.0</td>\n",
       "      <td>Bundee Aki</td>\n",
       "      <td>128.201122</td>\n",
       "      <td>99.0</td>\n",
       "      <td>23.0</td>\n",
       "      <td>91.0</td>\n",
       "      <td>110.77262</td>\n",
       "      <td>Will Jordan</td>\n",
       "      <td>31.0</td>\n",
       "    </tr>\n",
       "  </tbody>\n",
       "</table>\n",
       "</div>"
      ],
      "text/plain": [
       "   Away Minutes          Away Player    Away elo  Away Percentile Number  \\\n",
       "7          65.0        Andrew Porter  105.791011             89.0    1.0   \n",
       "2          64.0          Dan Sheehan   81.261693             13.0    2.0   \n",
       "4          65.0        Tadhg Furlong  103.024992             84.0    3.0   \n",
       "3          81.0         Tadhg Beirne   108.25333             90.0    4.0   \n",
       "6          69.0           James Ryan  100.072725             73.0    5.0   \n",
       "8          76.0       Peter O'Mahony  105.402545             89.0    6.0   \n",
       "15         81.0   Josh van der Flier   120.38603             98.0    7.0   \n",
       "5          69.0         Caelan Doris   96.760505             55.0    8.0   \n",
       "1          69.0  Jamison Gibson-Park  112.194505             95.0    9.0   \n",
       "14         74.0        Johnny Sexton  128.806876             99.0   10.0   \n",
       "13         81.0           James Lowe  139.603385             99.0   11.0   \n",
       "12         81.0       Robbie Henshaw  120.057361             98.0   12.0   \n",
       "22         31.0       Garry Ringrose  120.806235             98.0   13.0   \n",
       "10         81.0          Mack Hansen   85.048561             21.0   14.0   \n",
       "9          81.0          Hugo Keenan  114.287857             96.0   15.0   \n",
       "16         17.0          Rob Herring  113.168433             95.0   16.0   \n",
       "17         16.0           Cian Healy  123.015677             99.0   17.0   \n",
       "18         16.0       Finlay Bealham  104.246182             83.0   18.0   \n",
       "19         12.0     Kieran Treadwell  104.592103             82.0   19.0   \n",
       "20         17.0           Jack Conan  120.402854             97.0   20.0   \n",
       "21         12.0         Conor Murray  111.793319             93.0   21.0   \n",
       "0           7.0         Joey Carbery   97.246607             59.0   22.0   \n",
       "11         50.0           Bundee Aki  128.201122             99.0   23.0   \n",
       "\n",
       "    Home Percentile    Home elo             Home Player Home Minutes  \n",
       "7              23.0   93.745562            George Bower         64.0  \n",
       "2              66.0  101.597315            Codie Taylor         57.0  \n",
       "4              94.0  113.700592         Ofa Tu'ungafasi         81.0  \n",
       "3              98.0  126.019121        Brodie Retallick         69.0  \n",
       "6              95.0  117.793807           Scott Barrett         74.0  \n",
       "8              89.0  108.457896          Dalton Papalii         59.0  \n",
       "15             99.0   125.56057                Sam Cane         81.0  \n",
       "5              87.0  111.091316             Ardie Savea         33.0  \n",
       "1              94.0  113.885827             Aaron Smith         62.0  \n",
       "14             98.0  124.983873         Beauden Barrett         57.0  \n",
       "13             31.0   93.828109  Leicester Fainga'anuku         50.0  \n",
       "12             59.0  100.803302            Quinn Tupaea         81.0  \n",
       "22             46.0   98.930789             Rieko Ioane         81.0  \n",
       "10             98.0  124.733548              Sevu Reece         81.0  \n",
       "9              94.0   114.84011          Jordie Barrett         81.0  \n",
       "16             91.0  108.213964     Samisoni Taukei'aho         24.0  \n",
       "17             93.0  109.519737              Aidan Ross         20.0  \n",
       "18             98.0  118.643427           Angus Ta'avao         55.0  \n",
       "19             91.0  110.155498       Patrick Tuipulotu         19.0  \n",
       "20             78.0  105.241853       Pita Gus Sowakula         12.0  \n",
       "21              8.0   79.897453          Folau Fakatava         19.0  \n",
       "0              99.0  125.296796          Richie Mo'unga         24.0  \n",
       "11             91.0   110.77262             Will Jordan         31.0  "
      ]
     },
     "execution_count": 46,
     "metadata": {},
     "output_type": "execute_result"
    }
   ],
   "source": [
    "recent_game = recent_games[4]\n",
    "home_team = pd.DataFrame(recent_game['home_team'][:, [0,1,31,-2, -1]], columns = ['Number', 'Full_Name', 'Minutes', 'Unicode_ID', 'elo'])\n",
    "home_team = home_team.merge(current_players, on=['Full_Name', 'Unicode_ID'])\n",
    "home_team = home_team.drop(['Unicode_ID'], axis = 1)\n",
    "away_team = pd.DataFrame(recent_game['away_team'][:, [0,1,31,-2, -1]], columns = ['Number', 'Full_Name', 'Minutes', 'Unicode_ID', 'elo'])\n",
    "away_team = away_team.merge(current_players, on=['Full_Name', 'Unicode_ID'])\n",
    "away_team = away_team.drop(['Unicode_ID'], axis = 1)\n",
    "\n",
    "home_team.columns = ['Number', 'Home Player', 'Home Minutes', 'Home elo', 'Home Percentile']\n",
    "away_team.columns = ['Number', 'Away Player', 'Away Minutes', 'Away elo', 'Away Percentile']\n",
    "\n",
    "all_players = pd.merge(home_team, away_team)\n",
    "all_players = all_players.sort_values('Number')\n",
    "all_players = all_players[['Away Minutes', 'Away Player', 'Away elo','Away Percentile', 'Number', 'Home Percentile', 'Home elo', 'Home Player', 'Home Minutes']]\n",
    "all_players"
   ]
  },
  {
   "cell_type": "code",
   "execution_count": 61,
   "metadata": {},
   "outputs": [
    {
     "data": {
      "text/html": [
       "<div>\n",
       "<style scoped>\n",
       "    .dataframe tbody tr th:only-of-type {\n",
       "        vertical-align: middle;\n",
       "    }\n",
       "\n",
       "    .dataframe tbody tr th {\n",
       "        vertical-align: top;\n",
       "    }\n",
       "\n",
       "    .dataframe thead th {\n",
       "        text-align: right;\n",
       "    }\n",
       "</style>\n",
       "<table border=\"1\" class=\"dataframe\">\n",
       "  <thead>\n",
       "    <tr style=\"text-align: right;\">\n",
       "      <th></th>\n",
       "      <th>Away Minutes</th>\n",
       "      <th>Away Player</th>\n",
       "      <th>Away elo</th>\n",
       "      <th>Away Percentile</th>\n",
       "      <th>Number</th>\n",
       "      <th>Home Percentile</th>\n",
       "      <th>Home elo</th>\n",
       "      <th>Home Player</th>\n",
       "      <th>Home Minutes</th>\n",
       "    </tr>\n",
       "  </thead>\n",
       "  <tbody>\n",
       "    <tr>\n",
       "      <th>7</th>\n",
       "      <td>65.0</td>\n",
       "      <td>Andrew Porter</td>\n",
       "      <td>105.79</td>\n",
       "      <td>89.0</td>\n",
       "      <td>1.0</td>\n",
       "      <td>23.0</td>\n",
       "      <td>93.75</td>\n",
       "      <td>George Bower</td>\n",
       "      <td>64.0</td>\n",
       "    </tr>\n",
       "    <tr>\n",
       "      <th>2</th>\n",
       "      <td>64.0</td>\n",
       "      <td>Dan Sheehan</td>\n",
       "      <td>81.26</td>\n",
       "      <td>13.0</td>\n",
       "      <td>2.0</td>\n",
       "      <td>66.0</td>\n",
       "      <td>101.60</td>\n",
       "      <td>Codie Taylor</td>\n",
       "      <td>57.0</td>\n",
       "    </tr>\n",
       "    <tr>\n",
       "      <th>4</th>\n",
       "      <td>65.0</td>\n",
       "      <td>Tadhg Furlong</td>\n",
       "      <td>103.02</td>\n",
       "      <td>84.0</td>\n",
       "      <td>3.0</td>\n",
       "      <td>94.0</td>\n",
       "      <td>113.70</td>\n",
       "      <td>Ofa Tu'ungafasi</td>\n",
       "      <td>81.0</td>\n",
       "    </tr>\n",
       "    <tr>\n",
       "      <th>3</th>\n",
       "      <td>81.0</td>\n",
       "      <td>Tadhg Beirne</td>\n",
       "      <td>108.25</td>\n",
       "      <td>90.0</td>\n",
       "      <td>4.0</td>\n",
       "      <td>98.0</td>\n",
       "      <td>126.02</td>\n",
       "      <td>Brodie Retallick</td>\n",
       "      <td>69.0</td>\n",
       "    </tr>\n",
       "    <tr>\n",
       "      <th>6</th>\n",
       "      <td>69.0</td>\n",
       "      <td>James Ryan</td>\n",
       "      <td>100.07</td>\n",
       "      <td>73.0</td>\n",
       "      <td>5.0</td>\n",
       "      <td>95.0</td>\n",
       "      <td>117.79</td>\n",
       "      <td>Scott Barrett</td>\n",
       "      <td>74.0</td>\n",
       "    </tr>\n",
       "    <tr>\n",
       "      <th>8</th>\n",
       "      <td>76.0</td>\n",
       "      <td>Peter O'Mahony</td>\n",
       "      <td>105.40</td>\n",
       "      <td>89.0</td>\n",
       "      <td>6.0</td>\n",
       "      <td>89.0</td>\n",
       "      <td>108.46</td>\n",
       "      <td>Dalton Papalii</td>\n",
       "      <td>59.0</td>\n",
       "    </tr>\n",
       "    <tr>\n",
       "      <th>15</th>\n",
       "      <td>81.0</td>\n",
       "      <td>Josh van der Flier</td>\n",
       "      <td>120.39</td>\n",
       "      <td>98.0</td>\n",
       "      <td>7.0</td>\n",
       "      <td>99.0</td>\n",
       "      <td>125.56</td>\n",
       "      <td>Sam Cane</td>\n",
       "      <td>81.0</td>\n",
       "    </tr>\n",
       "    <tr>\n",
       "      <th>5</th>\n",
       "      <td>69.0</td>\n",
       "      <td>Caelan Doris</td>\n",
       "      <td>96.76</td>\n",
       "      <td>55.0</td>\n",
       "      <td>8.0</td>\n",
       "      <td>87.0</td>\n",
       "      <td>111.09</td>\n",
       "      <td>Ardie Savea</td>\n",
       "      <td>33.0</td>\n",
       "    </tr>\n",
       "    <tr>\n",
       "      <th>1</th>\n",
       "      <td>69.0</td>\n",
       "      <td>Jamison Gibson-Park</td>\n",
       "      <td>112.19</td>\n",
       "      <td>95.0</td>\n",
       "      <td>9.0</td>\n",
       "      <td>94.0</td>\n",
       "      <td>113.89</td>\n",
       "      <td>Aaron Smith</td>\n",
       "      <td>62.0</td>\n",
       "    </tr>\n",
       "    <tr>\n",
       "      <th>14</th>\n",
       "      <td>74.0</td>\n",
       "      <td>Johnny Sexton</td>\n",
       "      <td>128.81</td>\n",
       "      <td>99.0</td>\n",
       "      <td>10.0</td>\n",
       "      <td>98.0</td>\n",
       "      <td>124.98</td>\n",
       "      <td>Beauden Barrett</td>\n",
       "      <td>57.0</td>\n",
       "    </tr>\n",
       "    <tr>\n",
       "      <th>13</th>\n",
       "      <td>81.0</td>\n",
       "      <td>James Lowe</td>\n",
       "      <td>139.60</td>\n",
       "      <td>99.0</td>\n",
       "      <td>11.0</td>\n",
       "      <td>31.0</td>\n",
       "      <td>93.83</td>\n",
       "      <td>Leicester Fainga'anuku</td>\n",
       "      <td>50.0</td>\n",
       "    </tr>\n",
       "    <tr>\n",
       "      <th>12</th>\n",
       "      <td>81.0</td>\n",
       "      <td>Robbie Henshaw</td>\n",
       "      <td>120.06</td>\n",
       "      <td>98.0</td>\n",
       "      <td>12.0</td>\n",
       "      <td>59.0</td>\n",
       "      <td>100.80</td>\n",
       "      <td>Quinn Tupaea</td>\n",
       "      <td>81.0</td>\n",
       "    </tr>\n",
       "    <tr>\n",
       "      <th>22</th>\n",
       "      <td>31.0</td>\n",
       "      <td>Garry Ringrose</td>\n",
       "      <td>120.81</td>\n",
       "      <td>98.0</td>\n",
       "      <td>13.0</td>\n",
       "      <td>46.0</td>\n",
       "      <td>98.93</td>\n",
       "      <td>Rieko Ioane</td>\n",
       "      <td>81.0</td>\n",
       "    </tr>\n",
       "    <tr>\n",
       "      <th>10</th>\n",
       "      <td>81.0</td>\n",
       "      <td>Mack Hansen</td>\n",
       "      <td>85.05</td>\n",
       "      <td>21.0</td>\n",
       "      <td>14.0</td>\n",
       "      <td>98.0</td>\n",
       "      <td>124.73</td>\n",
       "      <td>Sevu Reece</td>\n",
       "      <td>81.0</td>\n",
       "    </tr>\n",
       "    <tr>\n",
       "      <th>9</th>\n",
       "      <td>81.0</td>\n",
       "      <td>Hugo Keenan</td>\n",
       "      <td>114.29</td>\n",
       "      <td>96.0</td>\n",
       "      <td>15.0</td>\n",
       "      <td>94.0</td>\n",
       "      <td>114.84</td>\n",
       "      <td>Jordie Barrett</td>\n",
       "      <td>81.0</td>\n",
       "    </tr>\n",
       "    <tr>\n",
       "      <th>16</th>\n",
       "      <td>17.0</td>\n",
       "      <td>Rob Herring</td>\n",
       "      <td>113.17</td>\n",
       "      <td>95.0</td>\n",
       "      <td>16.0</td>\n",
       "      <td>91.0</td>\n",
       "      <td>108.21</td>\n",
       "      <td>Samisoni Taukei'aho</td>\n",
       "      <td>24.0</td>\n",
       "    </tr>\n",
       "    <tr>\n",
       "      <th>17</th>\n",
       "      <td>16.0</td>\n",
       "      <td>Cian Healy</td>\n",
       "      <td>123.02</td>\n",
       "      <td>99.0</td>\n",
       "      <td>17.0</td>\n",
       "      <td>93.0</td>\n",
       "      <td>109.52</td>\n",
       "      <td>Aidan Ross</td>\n",
       "      <td>20.0</td>\n",
       "    </tr>\n",
       "    <tr>\n",
       "      <th>18</th>\n",
       "      <td>16.0</td>\n",
       "      <td>Finlay Bealham</td>\n",
       "      <td>104.25</td>\n",
       "      <td>83.0</td>\n",
       "      <td>18.0</td>\n",
       "      <td>98.0</td>\n",
       "      <td>118.64</td>\n",
       "      <td>Angus Ta'avao</td>\n",
       "      <td>55.0</td>\n",
       "    </tr>\n",
       "    <tr>\n",
       "      <th>19</th>\n",
       "      <td>12.0</td>\n",
       "      <td>Kieran Treadwell</td>\n",
       "      <td>104.59</td>\n",
       "      <td>82.0</td>\n",
       "      <td>19.0</td>\n",
       "      <td>91.0</td>\n",
       "      <td>110.16</td>\n",
       "      <td>Patrick Tuipulotu</td>\n",
       "      <td>19.0</td>\n",
       "    </tr>\n",
       "    <tr>\n",
       "      <th>20</th>\n",
       "      <td>17.0</td>\n",
       "      <td>Jack Conan</td>\n",
       "      <td>120.40</td>\n",
       "      <td>97.0</td>\n",
       "      <td>20.0</td>\n",
       "      <td>78.0</td>\n",
       "      <td>105.24</td>\n",
       "      <td>Pita Gus Sowakula</td>\n",
       "      <td>12.0</td>\n",
       "    </tr>\n",
       "    <tr>\n",
       "      <th>21</th>\n",
       "      <td>12.0</td>\n",
       "      <td>Conor Murray</td>\n",
       "      <td>111.79</td>\n",
       "      <td>93.0</td>\n",
       "      <td>21.0</td>\n",
       "      <td>8.0</td>\n",
       "      <td>79.90</td>\n",
       "      <td>Folau Fakatava</td>\n",
       "      <td>19.0</td>\n",
       "    </tr>\n",
       "    <tr>\n",
       "      <th>0</th>\n",
       "      <td>7.0</td>\n",
       "      <td>Joey Carbery</td>\n",
       "      <td>97.25</td>\n",
       "      <td>59.0</td>\n",
       "      <td>22.0</td>\n",
       "      <td>99.0</td>\n",
       "      <td>125.30</td>\n",
       "      <td>Richie Mo'unga</td>\n",
       "      <td>24.0</td>\n",
       "    </tr>\n",
       "    <tr>\n",
       "      <th>11</th>\n",
       "      <td>50.0</td>\n",
       "      <td>Bundee Aki</td>\n",
       "      <td>128.20</td>\n",
       "      <td>99.0</td>\n",
       "      <td>23.0</td>\n",
       "      <td>91.0</td>\n",
       "      <td>110.77</td>\n",
       "      <td>Will Jordan</td>\n",
       "      <td>31.0</td>\n",
       "    </tr>\n",
       "  </tbody>\n",
       "</table>\n",
       "</div>"
      ],
      "text/plain": [
       "    Away Minutes          Away Player  Away elo  Away Percentile  Number  \\\n",
       "7           65.0        Andrew Porter    105.79             89.0     1.0   \n",
       "2           64.0          Dan Sheehan     81.26             13.0     2.0   \n",
       "4           65.0        Tadhg Furlong    103.02             84.0     3.0   \n",
       "3           81.0         Tadhg Beirne    108.25             90.0     4.0   \n",
       "6           69.0           James Ryan    100.07             73.0     5.0   \n",
       "8           76.0       Peter O'Mahony    105.40             89.0     6.0   \n",
       "15          81.0   Josh van der Flier    120.39             98.0     7.0   \n",
       "5           69.0         Caelan Doris     96.76             55.0     8.0   \n",
       "1           69.0  Jamison Gibson-Park    112.19             95.0     9.0   \n",
       "14          74.0        Johnny Sexton    128.81             99.0    10.0   \n",
       "13          81.0           James Lowe    139.60             99.0    11.0   \n",
       "12          81.0       Robbie Henshaw    120.06             98.0    12.0   \n",
       "22          31.0       Garry Ringrose    120.81             98.0    13.0   \n",
       "10          81.0          Mack Hansen     85.05             21.0    14.0   \n",
       "9           81.0          Hugo Keenan    114.29             96.0    15.0   \n",
       "16          17.0          Rob Herring    113.17             95.0    16.0   \n",
       "17          16.0           Cian Healy    123.02             99.0    17.0   \n",
       "18          16.0       Finlay Bealham    104.25             83.0    18.0   \n",
       "19          12.0     Kieran Treadwell    104.59             82.0    19.0   \n",
       "20          17.0           Jack Conan    120.40             97.0    20.0   \n",
       "21          12.0         Conor Murray    111.79             93.0    21.0   \n",
       "0            7.0         Joey Carbery     97.25             59.0    22.0   \n",
       "11          50.0           Bundee Aki    128.20             99.0    23.0   \n",
       "\n",
       "    Home Percentile  Home elo             Home Player  Home Minutes  \n",
       "7              23.0     93.75            George Bower          64.0  \n",
       "2              66.0    101.60            Codie Taylor          57.0  \n",
       "4              94.0    113.70         Ofa Tu'ungafasi          81.0  \n",
       "3              98.0    126.02        Brodie Retallick          69.0  \n",
       "6              95.0    117.79           Scott Barrett          74.0  \n",
       "8              89.0    108.46          Dalton Papalii          59.0  \n",
       "15             99.0    125.56                Sam Cane          81.0  \n",
       "5              87.0    111.09             Ardie Savea          33.0  \n",
       "1              94.0    113.89             Aaron Smith          62.0  \n",
       "14             98.0    124.98         Beauden Barrett          57.0  \n",
       "13             31.0     93.83  Leicester Fainga'anuku          50.0  \n",
       "12             59.0    100.80            Quinn Tupaea          81.0  \n",
       "22             46.0     98.93             Rieko Ioane          81.0  \n",
       "10             98.0    124.73              Sevu Reece          81.0  \n",
       "9              94.0    114.84          Jordie Barrett          81.0  \n",
       "16             91.0    108.21     Samisoni Taukei'aho          24.0  \n",
       "17             93.0    109.52              Aidan Ross          20.0  \n",
       "18             98.0    118.64           Angus Ta'avao          55.0  \n",
       "19             91.0    110.16       Patrick Tuipulotu          19.0  \n",
       "20             78.0    105.24       Pita Gus Sowakula          12.0  \n",
       "21              8.0     79.90          Folau Fakatava          19.0  \n",
       "0              99.0    125.30          Richie Mo'unga          24.0  \n",
       "11             91.0    110.77             Will Jordan          31.0  "
      ]
     },
     "execution_count": 61,
     "metadata": {},
     "output_type": "execute_result"
    }
   ],
   "source": [
    "all_players.apply(pd.to_numeric, errors='ignore').round({'Home elo':2, 'Away elo':2})"
   ]
  },
  {
   "cell_type": "code",
   "execution_count": 6,
   "metadata": {},
   "outputs": [],
   "source": [
    "future_games = [x for x in match_list if 'point_diff' not in x.keys()]"
   ]
  },
  {
   "cell_type": "code",
   "execution_count": 36,
   "metadata": {},
   "outputs": [
    {
     "ename": "NameError",
     "evalue": "name 'future_games' is not defined",
     "output_type": "error",
     "traceback": [
      "\u001b[1;31m---------------------------------------------------------------------------\u001b[0m",
      "\u001b[1;31mNameError\u001b[0m                                 Traceback (most recent call last)",
      "\u001b[1;32mc:\\Users\\Graeham\\Documents\\GITHUB_PROJECTS\\grieman.github.io\\site_resources\\matches.ipynb Cell 11\u001b[0m in \u001b[0;36m<cell line: 1>\u001b[1;34m()\u001b[0m\n\u001b[1;32m----> <a href='vscode-notebook-cell:/c%3A/Users/Graeham/Documents/GITHUB_PROJECTS/grieman.github.io/site_resources/matches.ipynb#ch0000006?line=0'>1</a>\u001b[0m future_game \u001b[39m=\u001b[39m future_games[\u001b[39m0\u001b[39m]\n\u001b[0;32m      <a href='vscode-notebook-cell:/c%3A/Users/Graeham/Documents/GITHUB_PROJECTS/grieman.github.io/site_resources/matches.ipynb#ch0000006?line=2'>3</a>\u001b[0m home_team \u001b[39m=\u001b[39m pd\u001b[39m.\u001b[39mDataFrame(future_game[\u001b[39m'\u001b[39m\u001b[39mhome_team\u001b[39m\u001b[39m'\u001b[39m][:, [\u001b[39m0\u001b[39m,\u001b[39m1\u001b[39m,\u001b[39m-\u001b[39m\u001b[39m2\u001b[39m, \u001b[39m-\u001b[39m\u001b[39m1\u001b[39m]], columns \u001b[39m=\u001b[39m [\u001b[39m'\u001b[39m\u001b[39mNumber\u001b[39m\u001b[39m'\u001b[39m, \u001b[39m'\u001b[39m\u001b[39mFull_Name\u001b[39m\u001b[39m'\u001b[39m, \u001b[39m'\u001b[39m\u001b[39mUnicode_ID\u001b[39m\u001b[39m'\u001b[39m, \u001b[39m'\u001b[39m\u001b[39melo\u001b[39m\u001b[39m'\u001b[39m])\n\u001b[0;32m      <a href='vscode-notebook-cell:/c%3A/Users/Graeham/Documents/GITHUB_PROJECTS/grieman.github.io/site_resources/matches.ipynb#ch0000006?line=3'>4</a>\u001b[0m home_team \u001b[39m=\u001b[39m home_team\u001b[39m.\u001b[39mmerge(current_players, on\u001b[39m=\u001b[39m[\u001b[39m'\u001b[39m\u001b[39mFull_Name\u001b[39m\u001b[39m'\u001b[39m, \u001b[39m'\u001b[39m\u001b[39mUnicode_ID\u001b[39m\u001b[39m'\u001b[39m])\n",
      "\u001b[1;31mNameError\u001b[0m: name 'future_games' is not defined"
     ]
    }
   ],
   "source": [
    "future_game = future_games[0]\n",
    "\n",
    "home_team = pd.DataFrame(future_game['home_team'][:, [0,1,-2, -1]], columns = ['Number', 'Full_Name', 'Unicode_ID', 'elo'])\n",
    "home_team = home_team.merge(current_players, on=['Full_Name', 'Unicode_ID'])\n",
    "home_team = home_team.drop(['Unicode_ID'], axis = 1)\n",
    "home_team = home_team.sort_values('Number')\n",
    "\n",
    "away_team = pd.DataFrame(future_game['away_team'][:, [0,1,-2, -1]], columns = ['Number', 'Full_Name', 'Unicode_ID', 'elo'])\n",
    "away_team = away_team.merge(current_players, on=['Full_Name', 'Unicode_ID'])\n",
    "away_team = away_team.drop(['Unicode_ID'], axis = 1)\n",
    "away_team = away_team.sort_values('Number')\n",
    "\n",
    "home_team.columns = ['Number', 'Home Name', 'Home elo', 'Home Percentile']\n",
    "away_team.columns = ['Number', 'Away Name', 'Away elo', 'Away Percentile']\n",
    "\n",
    "all_players = pd.merge(home_team, away_team)\n",
    "all_players = all_players.sort_values('Number')\n",
    "all_players"
   ]
  },
  {
   "cell_type": "code",
   "execution_count": 40,
   "metadata": {},
   "outputs": [
    {
     "data": {
      "text/html": [
       "<div>\n",
       "<style scoped>\n",
       "    .dataframe tbody tr th:only-of-type {\n",
       "        vertical-align: middle;\n",
       "    }\n",
       "\n",
       "    .dataframe tbody tr th {\n",
       "        vertical-align: top;\n",
       "    }\n",
       "\n",
       "    .dataframe thead th {\n",
       "        text-align: right;\n",
       "    }\n",
       "</style>\n",
       "<table border=\"1\" class=\"dataframe\">\n",
       "  <thead>\n",
       "    <tr style=\"text-align: right;\">\n",
       "      <th></th>\n",
       "      <th>Number</th>\n",
       "      <th>home contributions</th>\n",
       "      <th>away contributions</th>\n",
       "      <th>home minute_elos</th>\n",
       "      <th>away minute_elos</th>\n",
       "    </tr>\n",
       "  </thead>\n",
       "  <tbody>\n",
       "    <tr>\n",
       "      <th>7</th>\n",
       "      <td>1.0</td>\n",
       "      <td>82.027367</td>\n",
       "      <td>92.567135</td>\n",
       "      <td>74.070568</td>\n",
       "      <td>84.894021</td>\n",
       "    </tr>\n",
       "    <tr>\n",
       "      <th>2</th>\n",
       "      <td>2.0</td>\n",
       "      <td>88.897651</td>\n",
       "      <td>71.103982</td>\n",
       "      <td>71.494407</td>\n",
       "      <td>64.20677</td>\n",
       "    </tr>\n",
       "    <tr>\n",
       "      <th>4</th>\n",
       "      <td>3.0</td>\n",
       "      <td>99.488018</td>\n",
       "      <td>90.146868</td>\n",
       "      <td>113.700592</td>\n",
       "      <td>82.674376</td>\n",
       "    </tr>\n",
       "    <tr>\n",
       "      <th>3</th>\n",
       "      <td>4.0</td>\n",
       "      <td>110.266731</td>\n",
       "      <td>94.721663</td>\n",
       "      <td>107.349621</td>\n",
       "      <td>108.25333</td>\n",
       "    </tr>\n",
       "    <tr>\n",
       "      <th>6</th>\n",
       "      <td>5.0</td>\n",
       "      <td>103.069581</td>\n",
       "      <td>87.563634</td>\n",
       "      <td>107.614096</td>\n",
       "      <td>85.247136</td>\n",
       "    </tr>\n",
       "    <tr>\n",
       "      <th>8</th>\n",
       "      <td>6.0</td>\n",
       "      <td>94.900659</td>\n",
       "      <td>92.227227</td>\n",
       "      <td>79.000196</td>\n",
       "      <td>98.896215</td>\n",
       "    </tr>\n",
       "    <tr>\n",
       "      <th>15</th>\n",
       "      <td>7.0</td>\n",
       "      <td>109.865499</td>\n",
       "      <td>105.337776</td>\n",
       "      <td>125.56057</td>\n",
       "      <td>120.38603</td>\n",
       "    </tr>\n",
       "    <tr>\n",
       "      <th>5</th>\n",
       "      <td>8.0</td>\n",
       "      <td>97.204902</td>\n",
       "      <td>84.665442</td>\n",
       "      <td>45.259425</td>\n",
       "      <td>82.425616</td>\n",
       "    </tr>\n",
       "    <tr>\n",
       "      <th>1</th>\n",
       "      <td>9.0</td>\n",
       "      <td>99.650098</td>\n",
       "      <td>98.170192</td>\n",
       "      <td>87.171867</td>\n",
       "      <td>95.573097</td>\n",
       "    </tr>\n",
       "    <tr>\n",
       "      <th>14</th>\n",
       "      <td>10.0</td>\n",
       "      <td>109.360889</td>\n",
       "      <td>112.706017</td>\n",
       "      <td>87.951615</td>\n",
       "      <td>117.675418</td>\n",
       "    </tr>\n",
       "    <tr>\n",
       "      <th>13</th>\n",
       "      <td>11.0</td>\n",
       "      <td>82.099595</td>\n",
       "      <td>122.152962</td>\n",
       "      <td>57.918586</td>\n",
       "      <td>139.603385</td>\n",
       "    </tr>\n",
       "    <tr>\n",
       "      <th>12</th>\n",
       "      <td>12.0</td>\n",
       "      <td>88.20289</td>\n",
       "      <td>105.050191</td>\n",
       "      <td>100.803302</td>\n",
       "      <td>120.057361</td>\n",
       "    </tr>\n",
       "    <tr>\n",
       "      <th>22</th>\n",
       "      <td>13.0</td>\n",
       "      <td>86.564441</td>\n",
       "      <td>105.705456</td>\n",
       "      <td>98.930789</td>\n",
       "      <td>46.234485</td>\n",
       "    </tr>\n",
       "    <tr>\n",
       "      <th>10</th>\n",
       "      <td>14.0</td>\n",
       "      <td>109.141855</td>\n",
       "      <td>74.417491</td>\n",
       "      <td>124.733548</td>\n",
       "      <td>85.048561</td>\n",
       "    </tr>\n",
       "    <tr>\n",
       "      <th>9</th>\n",
       "      <td>15.0</td>\n",
       "      <td>100.485097</td>\n",
       "      <td>100.001875</td>\n",
       "      <td>114.84011</td>\n",
       "      <td>114.287857</td>\n",
       "    </tr>\n",
       "    <tr>\n",
       "      <th>16</th>\n",
       "      <td>16.0</td>\n",
       "      <td>25.322068</td>\n",
       "      <td>26.481413</td>\n",
       "      <td>32.063397</td>\n",
       "      <td>23.7514</td>\n",
       "    </tr>\n",
       "    <tr>\n",
       "      <th>17</th>\n",
       "      <td>17.0</td>\n",
       "      <td>25.627618</td>\n",
       "      <td>28.785668</td>\n",
       "      <td>27.04191</td>\n",
       "      <td>24.299393</td>\n",
       "    </tr>\n",
       "    <tr>\n",
       "      <th>18</th>\n",
       "      <td>18.0</td>\n",
       "      <td>27.762562</td>\n",
       "      <td>24.393607</td>\n",
       "      <td>80.560351</td>\n",
       "      <td>20.591838</td>\n",
       "    </tr>\n",
       "    <tr>\n",
       "      <th>19</th>\n",
       "      <td>19.0</td>\n",
       "      <td>25.776386</td>\n",
       "      <td>24.474552</td>\n",
       "      <td>25.838944</td>\n",
       "      <td>15.495126</td>\n",
       "    </tr>\n",
       "    <tr>\n",
       "      <th>20</th>\n",
       "      <td>20.0</td>\n",
       "      <td>24.626594</td>\n",
       "      <td>28.174268</td>\n",
       "      <td>15.591386</td>\n",
       "      <td>25.269735</td>\n",
       "    </tr>\n",
       "    <tr>\n",
       "      <th>21</th>\n",
       "      <td>21.0</td>\n",
       "      <td>18.696004</td>\n",
       "      <td>26.159637</td>\n",
       "      <td>18.741378</td>\n",
       "      <td>16.561973</td>\n",
       "    </tr>\n",
       "    <tr>\n",
       "      <th>0</th>\n",
       "      <td>22.0</td>\n",
       "      <td>29.31945</td>\n",
       "      <td>22.755706</td>\n",
       "      <td>37.124977</td>\n",
       "      <td>8.404028</td>\n",
       "    </tr>\n",
       "    <tr>\n",
       "      <th>11</th>\n",
       "      <td>23.0</td>\n",
       "      <td>25.920793</td>\n",
       "      <td>29.999063</td>\n",
       "      <td>42.394459</td>\n",
       "      <td>79.136495</td>\n",
       "    </tr>\n",
       "  </tbody>\n",
       "</table>\n",
       "</div>"
      ],
      "text/plain": [
       "   Number home contributions away contributions home minute_elos  \\\n",
       "7     1.0          82.027367          92.567135        74.070568   \n",
       "2     2.0          88.897651          71.103982        71.494407   \n",
       "4     3.0          99.488018          90.146868       113.700592   \n",
       "3     4.0         110.266731          94.721663       107.349621   \n",
       "6     5.0         103.069581          87.563634       107.614096   \n",
       "8     6.0          94.900659          92.227227        79.000196   \n",
       "15    7.0         109.865499         105.337776        125.56057   \n",
       "5     8.0          97.204902          84.665442        45.259425   \n",
       "1     9.0          99.650098          98.170192        87.171867   \n",
       "14   10.0         109.360889         112.706017        87.951615   \n",
       "13   11.0          82.099595         122.152962        57.918586   \n",
       "12   12.0           88.20289         105.050191       100.803302   \n",
       "22   13.0          86.564441         105.705456        98.930789   \n",
       "10   14.0         109.141855          74.417491       124.733548   \n",
       "9    15.0         100.485097         100.001875        114.84011   \n",
       "16   16.0          25.322068          26.481413        32.063397   \n",
       "17   17.0          25.627618          28.785668         27.04191   \n",
       "18   18.0          27.762562          24.393607        80.560351   \n",
       "19   19.0          25.776386          24.474552        25.838944   \n",
       "20   20.0          24.626594          28.174268        15.591386   \n",
       "21   21.0          18.696004          26.159637        18.741378   \n",
       "0    22.0           29.31945          22.755706        37.124977   \n",
       "11   23.0          25.920793          29.999063        42.394459   \n",
       "\n",
       "   away minute_elos  \n",
       "7         84.894021  \n",
       "2          64.20677  \n",
       "4         82.674376  \n",
       "3         108.25333  \n",
       "6         85.247136  \n",
       "8         98.896215  \n",
       "15        120.38603  \n",
       "5         82.425616  \n",
       "1         95.573097  \n",
       "14       117.675418  \n",
       "13       139.603385  \n",
       "12       120.057361  \n",
       "22        46.234485  \n",
       "10        85.048561  \n",
       "9        114.287857  \n",
       "16          23.7514  \n",
       "17        24.299393  \n",
       "18        20.591838  \n",
       "19        15.495126  \n",
       "20        25.269735  \n",
       "21        16.561973  \n",
       "0          8.404028  \n",
       "11        79.136495  "
      ]
     },
     "execution_count": 40,
     "metadata": {},
     "output_type": "execute_result"
    }
   ],
   "source": [
    "## Draft attribution chart\n",
    "def lineup_contribition(player_df, column):\n",
    "    mult = np.where(player_df.Number <= 15, (7/8), 0.234)\n",
    "    return player_df[column] * mult\n",
    "\n",
    "all_players['home contributions'] = lineup_contribition(all_players, 'Home elo')\n",
    "all_players['away contributions'] = lineup_contribition(all_players, 'Away elo')\n",
    "all_players['home minute_elos'] = all_players['Home elo'] * all_players['Home Minutes'] / max(all_players['Home Minutes'])\n",
    "all_players['away minute_elos'] = all_players['Away elo'] * all_players['Away Minutes'] / max(all_players['Home Minutes'])\n",
    "\n",
    "all_players[['Number', 'home contributions', 'away contributions', 'home minute_elos', 'away minute_elos']]"
   ]
  },
  {
   "cell_type": "code",
   "execution_count": 41,
   "metadata": {},
   "outputs": [
    {
     "data": {
      "application/vnd.plotly.v1+json": {
       "config": {
        "plotlyServerURL": "https://plot.ly"
       },
       "data": [
        {
         "alignmentgroup": "True",
         "hovertemplate": "Number=1.0<br>variable=%{x}<br>value=%{y}<extra></extra>",
         "legendgroup": "1.0",
         "marker": {
          "color": "#636efa",
          "pattern": {
           "shape": ""
          }
         },
         "name": "1.0",
         "offsetgroup": "1.0",
         "orientation": "v",
         "showlegend": true,
         "textposition": "auto",
         "type": "bar",
         "x": [
          "home contributions",
          "away contributions",
          "home minute_elos",
          "away minute_elos"
         ],
         "xaxis": "x",
         "y": [
          82.02736695983195,
          92.56713478083987,
          74.07056769565072,
          84.89402131576144
         ],
         "yaxis": "y"
        },
        {
         "alignmentgroup": "True",
         "hovertemplate": "Number=2.0<br>variable=%{x}<br>value=%{y}<extra></extra>",
         "legendgroup": "2.0",
         "marker": {
          "color": "#EF553B",
          "pattern": {
           "shape": ""
          }
         },
         "name": "2.0",
         "offsetgroup": "2.0",
         "orientation": "v",
         "showlegend": true,
         "textposition": "auto",
         "type": "bar",
         "x": [
          "home contributions",
          "away contributions",
          "home minute_elos",
          "away minute_elos"
         ],
         "xaxis": "x",
         "y": [
          88.8976508714006,
          71.10398162304422,
          71.4944070500153,
          64.20677000176127
         ],
         "yaxis": "y"
        },
        {
         "alignmentgroup": "True",
         "hovertemplate": "Number=3.0<br>variable=%{x}<br>value=%{y}<extra></extra>",
         "legendgroup": "3.0",
         "marker": {
          "color": "#00cc96",
          "pattern": {
           "shape": ""
          }
         },
         "name": "3.0",
         "offsetgroup": "3.0",
         "orientation": "v",
         "showlegend": true,
         "textposition": "auto",
         "type": "bar",
         "x": [
          "home contributions",
          "away contributions",
          "home minute_elos",
          "away minute_elos"
         ],
         "xaxis": "x",
         "y": [
          99.48801778589473,
          90.1468678847151,
          113.70059175530827,
          82.67437619056764
         ],
         "yaxis": "y"
        },
        {
         "alignmentgroup": "True",
         "hovertemplate": "Number=4.0<br>variable=%{x}<br>value=%{y}<extra></extra>",
         "legendgroup": "4.0",
         "marker": {
          "color": "#ab63fa",
          "pattern": {
           "shape": ""
          }
         },
         "name": "4.0",
         "offsetgroup": "4.0",
         "orientation": "v",
         "showlegend": true,
         "textposition": "auto",
         "type": "bar",
         "x": [
          "home contributions",
          "away contributions",
          "home minute_elos",
          "away minute_elos"
         ],
         "xaxis": "x",
         "y": [
          110.26673073345263,
          94.72166341797369,
          107.34962145478988,
          108.25332962054136
         ],
         "yaxis": "y"
        },
        {
         "alignmentgroup": "True",
         "hovertemplate": "Number=5.0<br>variable=%{x}<br>value=%{y}<extra></extra>",
         "legendgroup": "5.0",
         "marker": {
          "color": "#FFA15A",
          "pattern": {
           "shape": ""
          }
         },
         "name": "5.0",
         "offsetgroup": "5.0",
         "orientation": "v",
         "showlegend": true,
         "textposition": "auto",
         "type": "bar",
         "x": [
          "home contributions",
          "away contributions",
          "home minute_elos",
          "away minute_elos"
         ],
         "xaxis": "x",
         "y": [
          103.06958145907144,
          87.56363416304197,
          107.61409563275184,
          85.24713590476043
         ],
         "yaxis": "y"
        },
        {
         "alignmentgroup": "True",
         "hovertemplate": "Number=6.0<br>variable=%{x}<br>value=%{y}<extra></extra>",
         "legendgroup": "6.0",
         "marker": {
          "color": "#19d3f3",
          "pattern": {
           "shape": ""
          }
         },
         "name": "6.0",
         "offsetgroup": "6.0",
         "orientation": "v",
         "showlegend": true,
         "textposition": "auto",
         "type": "bar",
         "x": [
          "home contributions",
          "away contributions",
          "home minute_elos",
          "away minute_elos"
         ],
         "xaxis": "x",
         "y": [
          94.90065908599075,
          92.22722666365699,
          79.00019592343497,
          98.8962148351031
         ],
         "yaxis": "y"
        },
        {
         "alignmentgroup": "True",
         "hovertemplate": "Number=7.0<br>variable=%{x}<br>value=%{y}<extra></extra>",
         "legendgroup": "7.0",
         "marker": {
          "color": "#FF6692",
          "pattern": {
           "shape": ""
          }
         },
         "name": "7.0",
         "offsetgroup": "7.0",
         "orientation": "v",
         "showlegend": true,
         "textposition": "auto",
         "type": "bar",
         "x": [
          "home contributions",
          "away contributions",
          "home minute_elos",
          "away minute_elos"
         ],
         "xaxis": "x",
         "y": [
          109.86549894004625,
          105.33777643529754,
          125.56057021719572,
          120.38603021176863
         ],
         "yaxis": "y"
        },
        {
         "alignmentgroup": "True",
         "hovertemplate": "Number=8.0<br>variable=%{x}<br>value=%{y}<extra></extra>",
         "legendgroup": "8.0",
         "marker": {
          "color": "#B6E880",
          "pattern": {
           "shape": ""
          }
         },
         "name": "8.0",
         "offsetgroup": "8.0",
         "orientation": "v",
         "showlegend": true,
         "textposition": "auto",
         "type": "bar",
         "x": [
          "home contributions",
          "away contributions",
          "home minute_elos",
          "away minute_elos"
         ],
         "xaxis": "x",
         "y": [
          97.20490186298339,
          84.66544221591026,
          45.25942520604518,
          82.42561570226184
         ],
         "yaxis": "y"
        },
        {
         "alignmentgroup": "True",
         "hovertemplate": "Number=9.0<br>variable=%{x}<br>value=%{y}<extra></extra>",
         "legendgroup": "9.0",
         "marker": {
          "color": "#FF97FF",
          "pattern": {
           "shape": ""
          }
         },
         "name": "9.0",
         "offsetgroup": "9.0",
         "orientation": "v",
         "showlegend": true,
         "textposition": "auto",
         "type": "bar",
         "x": [
          "home contributions",
          "away contributions",
          "home minute_elos",
          "away minute_elos"
         ],
         "xaxis": "x",
         "y": [
          99.65009819101289,
          98.17019163550185,
          87.17186720060387,
          95.57309661868963
         ],
         "yaxis": "y"
        },
        {
         "alignmentgroup": "True",
         "hovertemplate": "Number=10.0<br>variable=%{x}<br>value=%{y}<extra></extra>",
         "legendgroup": "10.0",
         "marker": {
          "color": "#FECB52",
          "pattern": {
           "shape": ""
          }
         },
         "name": "10.0",
         "offsetgroup": "10.0",
         "orientation": "v",
         "showlegend": true,
         "textposition": "auto",
         "type": "bar",
         "x": [
          "home contributions",
          "away contributions",
          "home minute_elos",
          "away minute_elos"
         ],
         "xaxis": "x",
         "y": [
          109.3608891675482,
          112.70601652350796,
          87.9516145686102,
          117.67541760479138
         ],
         "yaxis": "y"
        },
        {
         "alignmentgroup": "True",
         "hovertemplate": "Number=11.0<br>variable=%{x}<br>value=%{y}<extra></extra>",
         "legendgroup": "11.0",
         "marker": {
          "color": "#636efa",
          "pattern": {
           "shape": ""
          }
         },
         "name": "11.0",
         "offsetgroup": "11.0",
         "orientation": "v",
         "showlegend": true,
         "textposition": "auto",
         "type": "bar",
         "x": [
          "home contributions",
          "away contributions",
          "home minute_elos",
          "away minute_elos"
         ],
         "xaxis": "x",
         "y": [
          82.09959514926939,
          122.15296160749533,
          57.91858564322356,
          139.60338469428038
         ],
         "yaxis": "y"
        },
        {
         "alignmentgroup": "True",
         "hovertemplate": "Number=12.0<br>variable=%{x}<br>value=%{y}<extra></extra>",
         "legendgroup": "12.0",
         "marker": {
          "color": "#EF553B",
          "pattern": {
           "shape": ""
          }
         },
         "name": "12.0",
         "offsetgroup": "12.0",
         "orientation": "v",
         "showlegend": true,
         "textposition": "auto",
         "type": "bar",
         "x": [
          "home contributions",
          "away contributions",
          "home minute_elos",
          "away minute_elos"
         ],
         "xaxis": "x",
         "y": [
          88.20288953903638,
          105.05019102599846,
          100.80330233032728,
          120.05736117256966
         ],
         "yaxis": "y"
        },
        {
         "alignmentgroup": "True",
         "hovertemplate": "Number=13.0<br>variable=%{x}<br>value=%{y}<extra></extra>",
         "legendgroup": "13.0",
         "marker": {
          "color": "#00cc96",
          "pattern": {
           "shape": ""
          }
         },
         "name": "13.0",
         "offsetgroup": "13.0",
         "orientation": "v",
         "showlegend": true,
         "textposition": "auto",
         "type": "bar",
         "x": [
          "home contributions",
          "away contributions",
          "home minute_elos",
          "away minute_elos"
         ],
         "xaxis": "x",
         "y": [
          86.56444067538676,
          105.70545596134812,
          98.93078934329915,
          46.23448514711522
         ],
         "yaxis": "y"
        },
        {
         "alignmentgroup": "True",
         "hovertemplate": "Number=14.0<br>variable=%{x}<br>value=%{y}<extra></extra>",
         "legendgroup": "14.0",
         "marker": {
          "color": "#ab63fa",
          "pattern": {
           "shape": ""
          }
         },
         "name": "14.0",
         "offsetgroup": "14.0",
         "orientation": "v",
         "showlegend": true,
         "textposition": "auto",
         "type": "bar",
         "x": [
          "home contributions",
          "away contributions",
          "home minute_elos",
          "away minute_elos"
         ],
         "xaxis": "x",
         "y": [
          109.14185462766665,
          74.41749109643001,
          124.73354814590473,
          85.04856125306287
         ],
         "yaxis": "y"
        },
        {
         "alignmentgroup": "True",
         "hovertemplate": "Number=15.0<br>variable=%{x}<br>value=%{y}<extra></extra>",
         "legendgroup": "15.0",
         "marker": {
          "color": "#FFA15A",
          "pattern": {
           "shape": ""
          }
         },
         "name": "15.0",
         "offsetgroup": "15.0",
         "orientation": "v",
         "showlegend": true,
         "textposition": "auto",
         "type": "bar",
         "x": [
          "home contributions",
          "away contributions",
          "home minute_elos",
          "away minute_elos"
         ],
         "xaxis": "x",
         "y": [
          100.48509663444848,
          100.00187523239649,
          114.8401104393697,
          114.28785740845312
         ],
         "yaxis": "y"
        },
        {
         "alignmentgroup": "True",
         "hovertemplate": "Number=16.0<br>variable=%{x}<br>value=%{y}<extra></extra>",
         "legendgroup": "16.0",
         "marker": {
          "color": "#19d3f3",
          "pattern": {
           "shape": ""
          }
         },
         "name": "16.0",
         "offsetgroup": "16.0",
         "orientation": "v",
         "showlegend": true,
         "textposition": "auto",
         "type": "bar",
         "x": [
          "home contributions",
          "away contributions",
          "home minute_elos",
          "away minute_elos"
         ],
         "xaxis": "x",
         "y": [
          25.32206759230209,
          26.4814133746876,
          32.063396761382826,
          23.751399565774463
         ],
         "yaxis": "y"
        },
        {
         "alignmentgroup": "True",
         "hovertemplate": "Number=17.0<br>variable=%{x}<br>value=%{y}<extra></extra>",
         "legendgroup": "17.0",
         "marker": {
          "color": "#FF6692",
          "pattern": {
           "shape": ""
          }
         },
         "name": "17.0",
         "offsetgroup": "17.0",
         "orientation": "v",
         "showlegend": true,
         "textposition": "auto",
         "type": "bar",
         "x": [
          "home contributions",
          "away contributions",
          "home minute_elos",
          "away minute_elos"
         ],
         "xaxis": "x",
         "y": [
          25.62761836012669,
          28.78566837628769,
          27.0419102670958,
          24.29939295244291
         ],
         "yaxis": "y"
        },
        {
         "alignmentgroup": "True",
         "hovertemplate": "Number=18.0<br>variable=%{x}<br>value=%{y}<extra></extra>",
         "legendgroup": "18.0",
         "marker": {
          "color": "#B6E880",
          "pattern": {
           "shape": ""
          }
         },
         "name": "18.0",
         "offsetgroup": "18.0",
         "orientation": "v",
         "showlegend": true,
         "textposition": "auto",
         "type": "bar",
         "x": [
          "home contributions",
          "away contributions",
          "home minute_elos",
          "away minute_elos"
         ],
         "xaxis": "x",
         "y": [
          27.762561856616422,
          24.393606548992963,
          80.5603514885461,
          20.591838386825334
         ],
         "yaxis": "y"
        },
        {
         "alignmentgroup": "True",
         "hovertemplate": "Number=19.0<br>variable=%{x}<br>value=%{y}<extra></extra>",
         "legendgroup": "19.0",
         "marker": {
          "color": "#FF97FF",
          "pattern": {
           "shape": ""
          }
         },
         "name": "19.0",
         "offsetgroup": "19.0",
         "orientation": "v",
         "showlegend": true,
         "textposition": "auto",
         "type": "bar",
         "x": [
          "home contributions",
          "away contributions",
          "home minute_elos",
          "away minute_elos"
         ],
         "xaxis": "x",
         "y": [
          25.776386422831482,
          24.474552046920767,
          25.838943865875176,
          15.495126335499062
         ],
         "yaxis": "y"
        },
        {
         "alignmentgroup": "True",
         "hovertemplate": "Number=20.0<br>variable=%{x}<br>value=%{y}<extra></extra>",
         "legendgroup": "20.0",
         "marker": {
          "color": "#FECB52",
          "pattern": {
           "shape": ""
          }
         },
         "name": "20.0",
         "offsetgroup": "20.0",
         "orientation": "v",
         "showlegend": true,
         "textposition": "auto",
         "type": "bar",
         "x": [
          "home contributions",
          "away contributions",
          "home minute_elos",
          "away minute_elos"
         ],
         "xaxis": "x",
         "y": [
          24.626593626821606,
          28.174267767347683,
          15.591385645344479,
          25.269734728548624
         ],
         "yaxis": "y"
        },
        {
         "alignmentgroup": "True",
         "hovertemplate": "Number=21.0<br>variable=%{x}<br>value=%{y}<extra></extra>",
         "legendgroup": "21.0",
         "marker": {
          "color": "#636efa",
          "pattern": {
           "shape": ""
          }
         },
         "name": "21.0",
         "offsetgroup": "21.0",
         "orientation": "v",
         "showlegend": true,
         "textposition": "auto",
         "type": "bar",
         "x": [
          "home contributions",
          "away contributions",
          "home minute_elos",
          "away minute_elos"
         ],
         "xaxis": "x",
         "y": [
          18.696003920884383,
          26.159636606131603,
          18.741377782885053,
          16.561973159944035
         ],
         "yaxis": "y"
        },
        {
         "alignmentgroup": "True",
         "hovertemplate": "Number=22.0<br>variable=%{x}<br>value=%{y}<extra></extra>",
         "legendgroup": "22.0",
         "marker": {
          "color": "#EF553B",
          "pattern": {
           "shape": ""
          }
         },
         "name": "22.0",
         "offsetgroup": "22.0",
         "orientation": "v",
         "showlegend": true,
         "textposition": "auto",
         "type": "bar",
         "x": [
          "home contributions",
          "away contributions",
          "home minute_elos",
          "away minute_elos"
         ],
         "xaxis": "x",
         "y": [
          29.31945035028247,
          22.755705946115746,
          37.124976701845476,
          8.404027731497846
         ],
         "yaxis": "y"
        },
        {
         "alignmentgroup": "True",
         "hovertemplate": "Number=23.0<br>variable=%{x}<br>value=%{y}<extra></extra>",
         "legendgroup": "23.0",
         "marker": {
          "color": "#00cc96",
          "pattern": {
           "shape": ""
          }
         },
         "name": "23.0",
         "offsetgroup": "23.0",
         "orientation": "v",
         "showlegend": true,
         "textposition": "auto",
         "type": "bar",
         "x": [
          "home contributions",
          "away contributions",
          "home minute_elos",
          "away minute_elos"
         ],
         "xaxis": "x",
         "y": [
          25.9207930714543,
          29.999062564626104,
          42.39445949219601,
          79.13649510558749
         ],
         "yaxis": "y"
        }
       ],
       "layout": {
        "barmode": "relative",
        "legend": {
         "title": {
          "text": "Number"
         },
         "tracegroupgap": 0
        },
        "margin": {
         "t": 60
        },
        "template": {
         "data": {
          "bar": [
           {
            "error_x": {
             "color": "#2a3f5f"
            },
            "error_y": {
             "color": "#2a3f5f"
            },
            "marker": {
             "line": {
              "color": "#E5ECF6",
              "width": 0.5
             },
             "pattern": {
              "fillmode": "overlay",
              "size": 10,
              "solidity": 0.2
             }
            },
            "type": "bar"
           }
          ],
          "barpolar": [
           {
            "marker": {
             "line": {
              "color": "#E5ECF6",
              "width": 0.5
             },
             "pattern": {
              "fillmode": "overlay",
              "size": 10,
              "solidity": 0.2
             }
            },
            "type": "barpolar"
           }
          ],
          "carpet": [
           {
            "aaxis": {
             "endlinecolor": "#2a3f5f",
             "gridcolor": "white",
             "linecolor": "white",
             "minorgridcolor": "white",
             "startlinecolor": "#2a3f5f"
            },
            "baxis": {
             "endlinecolor": "#2a3f5f",
             "gridcolor": "white",
             "linecolor": "white",
             "minorgridcolor": "white",
             "startlinecolor": "#2a3f5f"
            },
            "type": "carpet"
           }
          ],
          "choropleth": [
           {
            "colorbar": {
             "outlinewidth": 0,
             "ticks": ""
            },
            "type": "choropleth"
           }
          ],
          "contour": [
           {
            "colorbar": {
             "outlinewidth": 0,
             "ticks": ""
            },
            "colorscale": [
             [
              0,
              "#0d0887"
             ],
             [
              0.1111111111111111,
              "#46039f"
             ],
             [
              0.2222222222222222,
              "#7201a8"
             ],
             [
              0.3333333333333333,
              "#9c179e"
             ],
             [
              0.4444444444444444,
              "#bd3786"
             ],
             [
              0.5555555555555556,
              "#d8576b"
             ],
             [
              0.6666666666666666,
              "#ed7953"
             ],
             [
              0.7777777777777778,
              "#fb9f3a"
             ],
             [
              0.8888888888888888,
              "#fdca26"
             ],
             [
              1,
              "#f0f921"
             ]
            ],
            "type": "contour"
           }
          ],
          "contourcarpet": [
           {
            "colorbar": {
             "outlinewidth": 0,
             "ticks": ""
            },
            "type": "contourcarpet"
           }
          ],
          "heatmap": [
           {
            "colorbar": {
             "outlinewidth": 0,
             "ticks": ""
            },
            "colorscale": [
             [
              0,
              "#0d0887"
             ],
             [
              0.1111111111111111,
              "#46039f"
             ],
             [
              0.2222222222222222,
              "#7201a8"
             ],
             [
              0.3333333333333333,
              "#9c179e"
             ],
             [
              0.4444444444444444,
              "#bd3786"
             ],
             [
              0.5555555555555556,
              "#d8576b"
             ],
             [
              0.6666666666666666,
              "#ed7953"
             ],
             [
              0.7777777777777778,
              "#fb9f3a"
             ],
             [
              0.8888888888888888,
              "#fdca26"
             ],
             [
              1,
              "#f0f921"
             ]
            ],
            "type": "heatmap"
           }
          ],
          "heatmapgl": [
           {
            "colorbar": {
             "outlinewidth": 0,
             "ticks": ""
            },
            "colorscale": [
             [
              0,
              "#0d0887"
             ],
             [
              0.1111111111111111,
              "#46039f"
             ],
             [
              0.2222222222222222,
              "#7201a8"
             ],
             [
              0.3333333333333333,
              "#9c179e"
             ],
             [
              0.4444444444444444,
              "#bd3786"
             ],
             [
              0.5555555555555556,
              "#d8576b"
             ],
             [
              0.6666666666666666,
              "#ed7953"
             ],
             [
              0.7777777777777778,
              "#fb9f3a"
             ],
             [
              0.8888888888888888,
              "#fdca26"
             ],
             [
              1,
              "#f0f921"
             ]
            ],
            "type": "heatmapgl"
           }
          ],
          "histogram": [
           {
            "marker": {
             "pattern": {
              "fillmode": "overlay",
              "size": 10,
              "solidity": 0.2
             }
            },
            "type": "histogram"
           }
          ],
          "histogram2d": [
           {
            "colorbar": {
             "outlinewidth": 0,
             "ticks": ""
            },
            "colorscale": [
             [
              0,
              "#0d0887"
             ],
             [
              0.1111111111111111,
              "#46039f"
             ],
             [
              0.2222222222222222,
              "#7201a8"
             ],
             [
              0.3333333333333333,
              "#9c179e"
             ],
             [
              0.4444444444444444,
              "#bd3786"
             ],
             [
              0.5555555555555556,
              "#d8576b"
             ],
             [
              0.6666666666666666,
              "#ed7953"
             ],
             [
              0.7777777777777778,
              "#fb9f3a"
             ],
             [
              0.8888888888888888,
              "#fdca26"
             ],
             [
              1,
              "#f0f921"
             ]
            ],
            "type": "histogram2d"
           }
          ],
          "histogram2dcontour": [
           {
            "colorbar": {
             "outlinewidth": 0,
             "ticks": ""
            },
            "colorscale": [
             [
              0,
              "#0d0887"
             ],
             [
              0.1111111111111111,
              "#46039f"
             ],
             [
              0.2222222222222222,
              "#7201a8"
             ],
             [
              0.3333333333333333,
              "#9c179e"
             ],
             [
              0.4444444444444444,
              "#bd3786"
             ],
             [
              0.5555555555555556,
              "#d8576b"
             ],
             [
              0.6666666666666666,
              "#ed7953"
             ],
             [
              0.7777777777777778,
              "#fb9f3a"
             ],
             [
              0.8888888888888888,
              "#fdca26"
             ],
             [
              1,
              "#f0f921"
             ]
            ],
            "type": "histogram2dcontour"
           }
          ],
          "mesh3d": [
           {
            "colorbar": {
             "outlinewidth": 0,
             "ticks": ""
            },
            "type": "mesh3d"
           }
          ],
          "parcoords": [
           {
            "line": {
             "colorbar": {
              "outlinewidth": 0,
              "ticks": ""
             }
            },
            "type": "parcoords"
           }
          ],
          "pie": [
           {
            "automargin": true,
            "type": "pie"
           }
          ],
          "scatter": [
           {
            "fillpattern": {
             "fillmode": "overlay",
             "size": 10,
             "solidity": 0.2
            },
            "type": "scatter"
           }
          ],
          "scatter3d": [
           {
            "line": {
             "colorbar": {
              "outlinewidth": 0,
              "ticks": ""
             }
            },
            "marker": {
             "colorbar": {
              "outlinewidth": 0,
              "ticks": ""
             }
            },
            "type": "scatter3d"
           }
          ],
          "scattercarpet": [
           {
            "marker": {
             "colorbar": {
              "outlinewidth": 0,
              "ticks": ""
             }
            },
            "type": "scattercarpet"
           }
          ],
          "scattergeo": [
           {
            "marker": {
             "colorbar": {
              "outlinewidth": 0,
              "ticks": ""
             }
            },
            "type": "scattergeo"
           }
          ],
          "scattergl": [
           {
            "marker": {
             "colorbar": {
              "outlinewidth": 0,
              "ticks": ""
             }
            },
            "type": "scattergl"
           }
          ],
          "scattermapbox": [
           {
            "marker": {
             "colorbar": {
              "outlinewidth": 0,
              "ticks": ""
             }
            },
            "type": "scattermapbox"
           }
          ],
          "scatterpolar": [
           {
            "marker": {
             "colorbar": {
              "outlinewidth": 0,
              "ticks": ""
             }
            },
            "type": "scatterpolar"
           }
          ],
          "scatterpolargl": [
           {
            "marker": {
             "colorbar": {
              "outlinewidth": 0,
              "ticks": ""
             }
            },
            "type": "scatterpolargl"
           }
          ],
          "scatterternary": [
           {
            "marker": {
             "colorbar": {
              "outlinewidth": 0,
              "ticks": ""
             }
            },
            "type": "scatterternary"
           }
          ],
          "surface": [
           {
            "colorbar": {
             "outlinewidth": 0,
             "ticks": ""
            },
            "colorscale": [
             [
              0,
              "#0d0887"
             ],
             [
              0.1111111111111111,
              "#46039f"
             ],
             [
              0.2222222222222222,
              "#7201a8"
             ],
             [
              0.3333333333333333,
              "#9c179e"
             ],
             [
              0.4444444444444444,
              "#bd3786"
             ],
             [
              0.5555555555555556,
              "#d8576b"
             ],
             [
              0.6666666666666666,
              "#ed7953"
             ],
             [
              0.7777777777777778,
              "#fb9f3a"
             ],
             [
              0.8888888888888888,
              "#fdca26"
             ],
             [
              1,
              "#f0f921"
             ]
            ],
            "type": "surface"
           }
          ],
          "table": [
           {
            "cells": {
             "fill": {
              "color": "#EBF0F8"
             },
             "line": {
              "color": "white"
             }
            },
            "header": {
             "fill": {
              "color": "#C8D4E3"
             },
             "line": {
              "color": "white"
             }
            },
            "type": "table"
           }
          ]
         },
         "layout": {
          "annotationdefaults": {
           "arrowcolor": "#2a3f5f",
           "arrowhead": 0,
           "arrowwidth": 1
          },
          "autotypenumbers": "strict",
          "coloraxis": {
           "colorbar": {
            "outlinewidth": 0,
            "ticks": ""
           }
          },
          "colorscale": {
           "diverging": [
            [
             0,
             "#8e0152"
            ],
            [
             0.1,
             "#c51b7d"
            ],
            [
             0.2,
             "#de77ae"
            ],
            [
             0.3,
             "#f1b6da"
            ],
            [
             0.4,
             "#fde0ef"
            ],
            [
             0.5,
             "#f7f7f7"
            ],
            [
             0.6,
             "#e6f5d0"
            ],
            [
             0.7,
             "#b8e186"
            ],
            [
             0.8,
             "#7fbc41"
            ],
            [
             0.9,
             "#4d9221"
            ],
            [
             1,
             "#276419"
            ]
           ],
           "sequential": [
            [
             0,
             "#0d0887"
            ],
            [
             0.1111111111111111,
             "#46039f"
            ],
            [
             0.2222222222222222,
             "#7201a8"
            ],
            [
             0.3333333333333333,
             "#9c179e"
            ],
            [
             0.4444444444444444,
             "#bd3786"
            ],
            [
             0.5555555555555556,
             "#d8576b"
            ],
            [
             0.6666666666666666,
             "#ed7953"
            ],
            [
             0.7777777777777778,
             "#fb9f3a"
            ],
            [
             0.8888888888888888,
             "#fdca26"
            ],
            [
             1,
             "#f0f921"
            ]
           ],
           "sequentialminus": [
            [
             0,
             "#0d0887"
            ],
            [
             0.1111111111111111,
             "#46039f"
            ],
            [
             0.2222222222222222,
             "#7201a8"
            ],
            [
             0.3333333333333333,
             "#9c179e"
            ],
            [
             0.4444444444444444,
             "#bd3786"
            ],
            [
             0.5555555555555556,
             "#d8576b"
            ],
            [
             0.6666666666666666,
             "#ed7953"
            ],
            [
             0.7777777777777778,
             "#fb9f3a"
            ],
            [
             0.8888888888888888,
             "#fdca26"
            ],
            [
             1,
             "#f0f921"
            ]
           ]
          },
          "colorway": [
           "#636efa",
           "#EF553B",
           "#00cc96",
           "#ab63fa",
           "#FFA15A",
           "#19d3f3",
           "#FF6692",
           "#B6E880",
           "#FF97FF",
           "#FECB52"
          ],
          "font": {
           "color": "#2a3f5f"
          },
          "geo": {
           "bgcolor": "white",
           "lakecolor": "white",
           "landcolor": "#E5ECF6",
           "showlakes": true,
           "showland": true,
           "subunitcolor": "white"
          },
          "hoverlabel": {
           "align": "left"
          },
          "hovermode": "closest",
          "mapbox": {
           "style": "light"
          },
          "paper_bgcolor": "white",
          "plot_bgcolor": "#E5ECF6",
          "polar": {
           "angularaxis": {
            "gridcolor": "white",
            "linecolor": "white",
            "ticks": ""
           },
           "bgcolor": "#E5ECF6",
           "radialaxis": {
            "gridcolor": "white",
            "linecolor": "white",
            "ticks": ""
           }
          },
          "scene": {
           "xaxis": {
            "backgroundcolor": "#E5ECF6",
            "gridcolor": "white",
            "gridwidth": 2,
            "linecolor": "white",
            "showbackground": true,
            "ticks": "",
            "zerolinecolor": "white"
           },
           "yaxis": {
            "backgroundcolor": "#E5ECF6",
            "gridcolor": "white",
            "gridwidth": 2,
            "linecolor": "white",
            "showbackground": true,
            "ticks": "",
            "zerolinecolor": "white"
           },
           "zaxis": {
            "backgroundcolor": "#E5ECF6",
            "gridcolor": "white",
            "gridwidth": 2,
            "linecolor": "white",
            "showbackground": true,
            "ticks": "",
            "zerolinecolor": "white"
           }
          },
          "shapedefaults": {
           "line": {
            "color": "#2a3f5f"
           }
          },
          "ternary": {
           "aaxis": {
            "gridcolor": "white",
            "linecolor": "white",
            "ticks": ""
           },
           "baxis": {
            "gridcolor": "white",
            "linecolor": "white",
            "ticks": ""
           },
           "bgcolor": "#E5ECF6",
           "caxis": {
            "gridcolor": "white",
            "linecolor": "white",
            "ticks": ""
           }
          },
          "title": {
           "x": 0.05
          },
          "xaxis": {
           "automargin": true,
           "gridcolor": "white",
           "linecolor": "white",
           "ticks": "",
           "title": {
            "standoff": 15
           },
           "zerolinecolor": "white",
           "zerolinewidth": 2
          },
          "yaxis": {
           "automargin": true,
           "gridcolor": "white",
           "linecolor": "white",
           "ticks": "",
           "title": {
            "standoff": 15
           },
           "zerolinecolor": "white",
           "zerolinewidth": 2
          }
         }
        },
        "xaxis": {
         "anchor": "y",
         "domain": [
          0,
          1
         ],
         "title": {
          "text": "variable"
         }
        },
        "yaxis": {
         "anchor": "x",
         "domain": [
          0,
          1
         ],
         "title": {
          "text": "value"
         }
        }
       }
      }
     },
     "metadata": {},
     "output_type": "display_data"
    }
   ],
   "source": [
    "long_players = all_players[['Number', 'home contributions', 'away contributions', 'home minute_elos', 'away minute_elos']].melt(id_vars = 'Number')\n",
    "fig = px.bar(long_players, x=\"variable\", y=\"value\", color = 'Number')\n",
    "fig.show()"
   ]
  },
  {
   "cell_type": "code",
   "execution_count": 42,
   "metadata": {},
   "outputs": [
    {
     "data": {
      "application/vnd.plotly.v1+json": {
       "config": {
        "plotlyServerURL": "https://plot.ly"
       },
       "data": [
        {
         "customdata": [
          "George Bower",
          "George Bower",
          "Andrew Porter",
          "Andrew Porter"
         ],
         "hovertemplate": "<b>%{customdata}</b>: %{y}",
         "name": "1.0",
         "type": "bar",
         "x": [
          "Home Projected",
          "Home Actual",
          "Away Projected",
          "Away Actual"
         ],
         "y": [
          82.02736695983195,
          74.07056769565072,
          92.56713478083987,
          84.89402131576144
         ]
        },
        {
         "customdata": [
          "Codie Taylor",
          "Codie Taylor",
          "Dan Sheehan",
          "Dan Sheehan"
         ],
         "hovertemplate": "<b>%{customdata}</b>: %{y}",
         "name": "2.0",
         "type": "bar",
         "x": [
          "Home Projected",
          "Home Actual",
          "Away Projected",
          "Away Actual"
         ],
         "y": [
          88.8976508714006,
          71.4944070500153,
          71.10398162304422,
          64.20677000176127
         ]
        },
        {
         "customdata": [
          "Ofa Tu'ungafasi",
          "Ofa Tu'ungafasi",
          "Tadhg Furlong",
          "Tadhg Furlong"
         ],
         "hovertemplate": "<b>%{customdata}</b>: %{y}",
         "name": "3.0",
         "type": "bar",
         "x": [
          "Home Projected",
          "Home Actual",
          "Away Projected",
          "Away Actual"
         ],
         "y": [
          99.48801778589473,
          113.70059175530827,
          90.1468678847151,
          82.67437619056764
         ]
        },
        {
         "customdata": [
          "Brodie Retallick",
          "Brodie Retallick",
          "Tadhg Beirne",
          "Tadhg Beirne"
         ],
         "hovertemplate": "<b>%{customdata}</b>: %{y}",
         "name": "4.0",
         "type": "bar",
         "x": [
          "Home Projected",
          "Home Actual",
          "Away Projected",
          "Away Actual"
         ],
         "y": [
          110.26673073345263,
          107.34962145478988,
          94.72166341797369,
          108.25332962054136
         ]
        },
        {
         "customdata": [
          "Scott Barrett",
          "Scott Barrett",
          "James Ryan",
          "James Ryan"
         ],
         "hovertemplate": "<b>%{customdata}</b>: %{y}",
         "name": "5.0",
         "type": "bar",
         "x": [
          "Home Projected",
          "Home Actual",
          "Away Projected",
          "Away Actual"
         ],
         "y": [
          103.06958145907144,
          107.61409563275184,
          87.56363416304197,
          85.24713590476043
         ]
        },
        {
         "customdata": [
          "Dalton Papalii",
          "Dalton Papalii",
          "Peter O'Mahony",
          "Peter O'Mahony"
         ],
         "hovertemplate": "<b>%{customdata}</b>: %{y}",
         "name": "6.0",
         "type": "bar",
         "x": [
          "Home Projected",
          "Home Actual",
          "Away Projected",
          "Away Actual"
         ],
         "y": [
          94.90065908599075,
          79.00019592343497,
          92.22722666365699,
          98.8962148351031
         ]
        },
        {
         "customdata": [
          "Sam Cane",
          "Sam Cane",
          "Josh van der Flier",
          "Josh van der Flier"
         ],
         "hovertemplate": "<b>%{customdata}</b>: %{y}",
         "name": "7.0",
         "type": "bar",
         "x": [
          "Home Projected",
          "Home Actual",
          "Away Projected",
          "Away Actual"
         ],
         "y": [
          109.86549894004625,
          125.56057021719572,
          105.33777643529754,
          120.38603021176863
         ]
        },
        {
         "customdata": [
          "Ardie Savea",
          "Ardie Savea",
          "Caelan Doris",
          "Caelan Doris"
         ],
         "hovertemplate": "<b>%{customdata}</b>: %{y}",
         "name": "8.0",
         "type": "bar",
         "x": [
          "Home Projected",
          "Home Actual",
          "Away Projected",
          "Away Actual"
         ],
         "y": [
          97.20490186298339,
          45.25942520604518,
          84.66544221591026,
          82.42561570226184
         ]
        },
        {
         "customdata": [
          "Aaron Smith",
          "Aaron Smith",
          "Jamison Gibson-Park",
          "Jamison Gibson-Park"
         ],
         "hovertemplate": "<b>%{customdata}</b>: %{y}",
         "name": "9.0",
         "type": "bar",
         "x": [
          "Home Projected",
          "Home Actual",
          "Away Projected",
          "Away Actual"
         ],
         "y": [
          99.65009819101289,
          87.17186720060387,
          98.17019163550185,
          95.57309661868963
         ]
        },
        {
         "customdata": [
          "Beauden Barrett",
          "Beauden Barrett",
          "Johnny Sexton",
          "Johnny Sexton"
         ],
         "hovertemplate": "<b>%{customdata}</b>: %{y}",
         "name": "10.0",
         "type": "bar",
         "x": [
          "Home Projected",
          "Home Actual",
          "Away Projected",
          "Away Actual"
         ],
         "y": [
          109.3608891675482,
          87.9516145686102,
          112.70601652350796,
          117.67541760479138
         ]
        },
        {
         "customdata": [
          "Leicester Fainga'anuku",
          "Leicester Fainga'anuku",
          "James Lowe",
          "James Lowe"
         ],
         "hovertemplate": "<b>%{customdata}</b>: %{y}",
         "name": "11.0",
         "type": "bar",
         "x": [
          "Home Projected",
          "Home Actual",
          "Away Projected",
          "Away Actual"
         ],
         "y": [
          82.09959514926939,
          57.91858564322356,
          122.15296160749533,
          139.60338469428038
         ]
        },
        {
         "customdata": [
          "Quinn Tupaea",
          "Quinn Tupaea",
          "Robbie Henshaw",
          "Robbie Henshaw"
         ],
         "hovertemplate": "<b>%{customdata}</b>: %{y}",
         "name": "12.0",
         "type": "bar",
         "x": [
          "Home Projected",
          "Home Actual",
          "Away Projected",
          "Away Actual"
         ],
         "y": [
          88.20288953903638,
          100.80330233032728,
          105.05019102599846,
          120.05736117256966
         ]
        },
        {
         "customdata": [
          "Rieko Ioane",
          "Rieko Ioane",
          "Garry Ringrose",
          "Garry Ringrose"
         ],
         "hovertemplate": "<b>%{customdata}</b>: %{y}",
         "name": "13.0",
         "type": "bar",
         "x": [
          "Home Projected",
          "Home Actual",
          "Away Projected",
          "Away Actual"
         ],
         "y": [
          86.56444067538676,
          98.93078934329915,
          105.70545596134812,
          46.23448514711522
         ]
        },
        {
         "customdata": [
          "Sevu Reece",
          "Sevu Reece",
          "Mack Hansen",
          "Mack Hansen"
         ],
         "hovertemplate": "<b>%{customdata}</b>: %{y}",
         "name": "14.0",
         "type": "bar",
         "x": [
          "Home Projected",
          "Home Actual",
          "Away Projected",
          "Away Actual"
         ],
         "y": [
          109.14185462766665,
          124.73354814590473,
          74.41749109643001,
          85.04856125306287
         ]
        },
        {
         "customdata": [
          "Jordie Barrett",
          "Jordie Barrett",
          "Hugo Keenan",
          "Hugo Keenan"
         ],
         "hovertemplate": "<b>%{customdata}</b>: %{y}",
         "name": "15.0",
         "type": "bar",
         "x": [
          "Home Projected",
          "Home Actual",
          "Away Projected",
          "Away Actual"
         ],
         "y": [
          100.48509663444848,
          114.8401104393697,
          100.00187523239649,
          114.28785740845312
         ]
        },
        {
         "customdata": [
          "Samisoni Taukei'aho",
          "Samisoni Taukei'aho",
          "Rob Herring",
          "Rob Herring"
         ],
         "hovertemplate": "<b>%{customdata}</b>: %{y}",
         "name": "16.0",
         "type": "bar",
         "x": [
          "Home Projected",
          "Home Actual",
          "Away Projected",
          "Away Actual"
         ],
         "y": [
          25.32206759230209,
          32.063396761382826,
          26.4814133746876,
          23.751399565774463
         ]
        },
        {
         "customdata": [
          "Aidan Ross",
          "Aidan Ross",
          "Cian Healy",
          "Cian Healy"
         ],
         "hovertemplate": "<b>%{customdata}</b>: %{y}",
         "name": "17.0",
         "type": "bar",
         "x": [
          "Home Projected",
          "Home Actual",
          "Away Projected",
          "Away Actual"
         ],
         "y": [
          25.62761836012669,
          27.0419102670958,
          28.78566837628769,
          24.29939295244291
         ]
        },
        {
         "customdata": [
          "Angus Ta'avao",
          "Angus Ta'avao",
          "Finlay Bealham",
          "Finlay Bealham"
         ],
         "hovertemplate": "<b>%{customdata}</b>: %{y}",
         "name": "18.0",
         "type": "bar",
         "x": [
          "Home Projected",
          "Home Actual",
          "Away Projected",
          "Away Actual"
         ],
         "y": [
          27.762561856616422,
          80.5603514885461,
          24.393606548992963,
          20.591838386825334
         ]
        },
        {
         "customdata": [
          "Patrick Tuipulotu",
          "Patrick Tuipulotu",
          "Kieran Treadwell",
          "Kieran Treadwell"
         ],
         "hovertemplate": "<b>%{customdata}</b>: %{y}",
         "name": "19.0",
         "type": "bar",
         "x": [
          "Home Projected",
          "Home Actual",
          "Away Projected",
          "Away Actual"
         ],
         "y": [
          25.776386422831482,
          25.838943865875176,
          24.474552046920767,
          15.495126335499062
         ]
        },
        {
         "customdata": [
          "Pita Gus Sowakula",
          "Pita Gus Sowakula",
          "Jack Conan",
          "Jack Conan"
         ],
         "hovertemplate": "<b>%{customdata}</b>: %{y}",
         "name": "20.0",
         "type": "bar",
         "x": [
          "Home Projected",
          "Home Actual",
          "Away Projected",
          "Away Actual"
         ],
         "y": [
          24.626593626821606,
          15.591385645344479,
          28.174267767347683,
          25.269734728548624
         ]
        },
        {
         "customdata": [
          "Folau Fakatava",
          "Folau Fakatava",
          "Conor Murray",
          "Conor Murray"
         ],
         "hovertemplate": "<b>%{customdata}</b>: %{y}",
         "name": "21.0",
         "type": "bar",
         "x": [
          "Home Projected",
          "Home Actual",
          "Away Projected",
          "Away Actual"
         ],
         "y": [
          18.696003920884383,
          18.741377782885053,
          26.159636606131603,
          16.561973159944035
         ]
        },
        {
         "customdata": [
          "Richie Mo'unga",
          "Richie Mo'unga",
          "Joey Carbery",
          "Joey Carbery"
         ],
         "hovertemplate": "<b>%{customdata}</b>: %{y}",
         "name": "22.0",
         "type": "bar",
         "x": [
          "Home Projected",
          "Home Actual",
          "Away Projected",
          "Away Actual"
         ],
         "y": [
          29.31945035028247,
          37.124976701845476,
          22.755705946115746,
          8.404027731497846
         ]
        },
        {
         "customdata": [
          "Will Jordan",
          "Will Jordan",
          "Bundee Aki",
          "Bundee Aki"
         ],
         "hovertemplate": "<b>%{customdata}</b>: %{y}",
         "name": "23.0",
         "type": "bar",
         "x": [
          "Home Projected",
          "Home Actual",
          "Away Projected",
          "Away Actual"
         ],
         "y": [
          25.9207930714543,
          42.39445949219601,
          29.999062564626104,
          79.13649510558749
         ]
        }
       ],
       "layout": {
        "barmode": "stack",
        "template": {
         "data": {
          "bar": [
           {
            "error_x": {
             "color": "#2a3f5f"
            },
            "error_y": {
             "color": "#2a3f5f"
            },
            "marker": {
             "line": {
              "color": "#E5ECF6",
              "width": 0.5
             },
             "pattern": {
              "fillmode": "overlay",
              "size": 10,
              "solidity": 0.2
             }
            },
            "type": "bar"
           }
          ],
          "barpolar": [
           {
            "marker": {
             "line": {
              "color": "#E5ECF6",
              "width": 0.5
             },
             "pattern": {
              "fillmode": "overlay",
              "size": 10,
              "solidity": 0.2
             }
            },
            "type": "barpolar"
           }
          ],
          "carpet": [
           {
            "aaxis": {
             "endlinecolor": "#2a3f5f",
             "gridcolor": "white",
             "linecolor": "white",
             "minorgridcolor": "white",
             "startlinecolor": "#2a3f5f"
            },
            "baxis": {
             "endlinecolor": "#2a3f5f",
             "gridcolor": "white",
             "linecolor": "white",
             "minorgridcolor": "white",
             "startlinecolor": "#2a3f5f"
            },
            "type": "carpet"
           }
          ],
          "choropleth": [
           {
            "colorbar": {
             "outlinewidth": 0,
             "ticks": ""
            },
            "type": "choropleth"
           }
          ],
          "contour": [
           {
            "colorbar": {
             "outlinewidth": 0,
             "ticks": ""
            },
            "colorscale": [
             [
              0,
              "#0d0887"
             ],
             [
              0.1111111111111111,
              "#46039f"
             ],
             [
              0.2222222222222222,
              "#7201a8"
             ],
             [
              0.3333333333333333,
              "#9c179e"
             ],
             [
              0.4444444444444444,
              "#bd3786"
             ],
             [
              0.5555555555555556,
              "#d8576b"
             ],
             [
              0.6666666666666666,
              "#ed7953"
             ],
             [
              0.7777777777777778,
              "#fb9f3a"
             ],
             [
              0.8888888888888888,
              "#fdca26"
             ],
             [
              1,
              "#f0f921"
             ]
            ],
            "type": "contour"
           }
          ],
          "contourcarpet": [
           {
            "colorbar": {
             "outlinewidth": 0,
             "ticks": ""
            },
            "type": "contourcarpet"
           }
          ],
          "heatmap": [
           {
            "colorbar": {
             "outlinewidth": 0,
             "ticks": ""
            },
            "colorscale": [
             [
              0,
              "#0d0887"
             ],
             [
              0.1111111111111111,
              "#46039f"
             ],
             [
              0.2222222222222222,
              "#7201a8"
             ],
             [
              0.3333333333333333,
              "#9c179e"
             ],
             [
              0.4444444444444444,
              "#bd3786"
             ],
             [
              0.5555555555555556,
              "#d8576b"
             ],
             [
              0.6666666666666666,
              "#ed7953"
             ],
             [
              0.7777777777777778,
              "#fb9f3a"
             ],
             [
              0.8888888888888888,
              "#fdca26"
             ],
             [
              1,
              "#f0f921"
             ]
            ],
            "type": "heatmap"
           }
          ],
          "heatmapgl": [
           {
            "colorbar": {
             "outlinewidth": 0,
             "ticks": ""
            },
            "colorscale": [
             [
              0,
              "#0d0887"
             ],
             [
              0.1111111111111111,
              "#46039f"
             ],
             [
              0.2222222222222222,
              "#7201a8"
             ],
             [
              0.3333333333333333,
              "#9c179e"
             ],
             [
              0.4444444444444444,
              "#bd3786"
             ],
             [
              0.5555555555555556,
              "#d8576b"
             ],
             [
              0.6666666666666666,
              "#ed7953"
             ],
             [
              0.7777777777777778,
              "#fb9f3a"
             ],
             [
              0.8888888888888888,
              "#fdca26"
             ],
             [
              1,
              "#f0f921"
             ]
            ],
            "type": "heatmapgl"
           }
          ],
          "histogram": [
           {
            "marker": {
             "pattern": {
              "fillmode": "overlay",
              "size": 10,
              "solidity": 0.2
             }
            },
            "type": "histogram"
           }
          ],
          "histogram2d": [
           {
            "colorbar": {
             "outlinewidth": 0,
             "ticks": ""
            },
            "colorscale": [
             [
              0,
              "#0d0887"
             ],
             [
              0.1111111111111111,
              "#46039f"
             ],
             [
              0.2222222222222222,
              "#7201a8"
             ],
             [
              0.3333333333333333,
              "#9c179e"
             ],
             [
              0.4444444444444444,
              "#bd3786"
             ],
             [
              0.5555555555555556,
              "#d8576b"
             ],
             [
              0.6666666666666666,
              "#ed7953"
             ],
             [
              0.7777777777777778,
              "#fb9f3a"
             ],
             [
              0.8888888888888888,
              "#fdca26"
             ],
             [
              1,
              "#f0f921"
             ]
            ],
            "type": "histogram2d"
           }
          ],
          "histogram2dcontour": [
           {
            "colorbar": {
             "outlinewidth": 0,
             "ticks": ""
            },
            "colorscale": [
             [
              0,
              "#0d0887"
             ],
             [
              0.1111111111111111,
              "#46039f"
             ],
             [
              0.2222222222222222,
              "#7201a8"
             ],
             [
              0.3333333333333333,
              "#9c179e"
             ],
             [
              0.4444444444444444,
              "#bd3786"
             ],
             [
              0.5555555555555556,
              "#d8576b"
             ],
             [
              0.6666666666666666,
              "#ed7953"
             ],
             [
              0.7777777777777778,
              "#fb9f3a"
             ],
             [
              0.8888888888888888,
              "#fdca26"
             ],
             [
              1,
              "#f0f921"
             ]
            ],
            "type": "histogram2dcontour"
           }
          ],
          "mesh3d": [
           {
            "colorbar": {
             "outlinewidth": 0,
             "ticks": ""
            },
            "type": "mesh3d"
           }
          ],
          "parcoords": [
           {
            "line": {
             "colorbar": {
              "outlinewidth": 0,
              "ticks": ""
             }
            },
            "type": "parcoords"
           }
          ],
          "pie": [
           {
            "automargin": true,
            "type": "pie"
           }
          ],
          "scatter": [
           {
            "fillpattern": {
             "fillmode": "overlay",
             "size": 10,
             "solidity": 0.2
            },
            "type": "scatter"
           }
          ],
          "scatter3d": [
           {
            "line": {
             "colorbar": {
              "outlinewidth": 0,
              "ticks": ""
             }
            },
            "marker": {
             "colorbar": {
              "outlinewidth": 0,
              "ticks": ""
             }
            },
            "type": "scatter3d"
           }
          ],
          "scattercarpet": [
           {
            "marker": {
             "colorbar": {
              "outlinewidth": 0,
              "ticks": ""
             }
            },
            "type": "scattercarpet"
           }
          ],
          "scattergeo": [
           {
            "marker": {
             "colorbar": {
              "outlinewidth": 0,
              "ticks": ""
             }
            },
            "type": "scattergeo"
           }
          ],
          "scattergl": [
           {
            "marker": {
             "colorbar": {
              "outlinewidth": 0,
              "ticks": ""
             }
            },
            "type": "scattergl"
           }
          ],
          "scattermapbox": [
           {
            "marker": {
             "colorbar": {
              "outlinewidth": 0,
              "ticks": ""
             }
            },
            "type": "scattermapbox"
           }
          ],
          "scatterpolar": [
           {
            "marker": {
             "colorbar": {
              "outlinewidth": 0,
              "ticks": ""
             }
            },
            "type": "scatterpolar"
           }
          ],
          "scatterpolargl": [
           {
            "marker": {
             "colorbar": {
              "outlinewidth": 0,
              "ticks": ""
             }
            },
            "type": "scatterpolargl"
           }
          ],
          "scatterternary": [
           {
            "marker": {
             "colorbar": {
              "outlinewidth": 0,
              "ticks": ""
             }
            },
            "type": "scatterternary"
           }
          ],
          "surface": [
           {
            "colorbar": {
             "outlinewidth": 0,
             "ticks": ""
            },
            "colorscale": [
             [
              0,
              "#0d0887"
             ],
             [
              0.1111111111111111,
              "#46039f"
             ],
             [
              0.2222222222222222,
              "#7201a8"
             ],
             [
              0.3333333333333333,
              "#9c179e"
             ],
             [
              0.4444444444444444,
              "#bd3786"
             ],
             [
              0.5555555555555556,
              "#d8576b"
             ],
             [
              0.6666666666666666,
              "#ed7953"
             ],
             [
              0.7777777777777778,
              "#fb9f3a"
             ],
             [
              0.8888888888888888,
              "#fdca26"
             ],
             [
              1,
              "#f0f921"
             ]
            ],
            "type": "surface"
           }
          ],
          "table": [
           {
            "cells": {
             "fill": {
              "color": "#EBF0F8"
             },
             "line": {
              "color": "white"
             }
            },
            "header": {
             "fill": {
              "color": "#C8D4E3"
             },
             "line": {
              "color": "white"
             }
            },
            "type": "table"
           }
          ]
         },
         "layout": {
          "annotationdefaults": {
           "arrowcolor": "#2a3f5f",
           "arrowhead": 0,
           "arrowwidth": 1
          },
          "autotypenumbers": "strict",
          "coloraxis": {
           "colorbar": {
            "outlinewidth": 0,
            "ticks": ""
           }
          },
          "colorscale": {
           "diverging": [
            [
             0,
             "#8e0152"
            ],
            [
             0.1,
             "#c51b7d"
            ],
            [
             0.2,
             "#de77ae"
            ],
            [
             0.3,
             "#f1b6da"
            ],
            [
             0.4,
             "#fde0ef"
            ],
            [
             0.5,
             "#f7f7f7"
            ],
            [
             0.6,
             "#e6f5d0"
            ],
            [
             0.7,
             "#b8e186"
            ],
            [
             0.8,
             "#7fbc41"
            ],
            [
             0.9,
             "#4d9221"
            ],
            [
             1,
             "#276419"
            ]
           ],
           "sequential": [
            [
             0,
             "#0d0887"
            ],
            [
             0.1111111111111111,
             "#46039f"
            ],
            [
             0.2222222222222222,
             "#7201a8"
            ],
            [
             0.3333333333333333,
             "#9c179e"
            ],
            [
             0.4444444444444444,
             "#bd3786"
            ],
            [
             0.5555555555555556,
             "#d8576b"
            ],
            [
             0.6666666666666666,
             "#ed7953"
            ],
            [
             0.7777777777777778,
             "#fb9f3a"
            ],
            [
             0.8888888888888888,
             "#fdca26"
            ],
            [
             1,
             "#f0f921"
            ]
           ],
           "sequentialminus": [
            [
             0,
             "#0d0887"
            ],
            [
             0.1111111111111111,
             "#46039f"
            ],
            [
             0.2222222222222222,
             "#7201a8"
            ],
            [
             0.3333333333333333,
             "#9c179e"
            ],
            [
             0.4444444444444444,
             "#bd3786"
            ],
            [
             0.5555555555555556,
             "#d8576b"
            ],
            [
             0.6666666666666666,
             "#ed7953"
            ],
            [
             0.7777777777777778,
             "#fb9f3a"
            ],
            [
             0.8888888888888888,
             "#fdca26"
            ],
            [
             1,
             "#f0f921"
            ]
           ]
          },
          "colorway": [
           "#636efa",
           "#EF553B",
           "#00cc96",
           "#ab63fa",
           "#FFA15A",
           "#19d3f3",
           "#FF6692",
           "#B6E880",
           "#FF97FF",
           "#FECB52"
          ],
          "font": {
           "color": "#2a3f5f"
          },
          "geo": {
           "bgcolor": "white",
           "lakecolor": "white",
           "landcolor": "#E5ECF6",
           "showlakes": true,
           "showland": true,
           "subunitcolor": "white"
          },
          "hoverlabel": {
           "align": "left"
          },
          "hovermode": "closest",
          "mapbox": {
           "style": "light"
          },
          "paper_bgcolor": "white",
          "plot_bgcolor": "#E5ECF6",
          "polar": {
           "angularaxis": {
            "gridcolor": "white",
            "linecolor": "white",
            "ticks": ""
           },
           "bgcolor": "#E5ECF6",
           "radialaxis": {
            "gridcolor": "white",
            "linecolor": "white",
            "ticks": ""
           }
          },
          "scene": {
           "xaxis": {
            "backgroundcolor": "#E5ECF6",
            "gridcolor": "white",
            "gridwidth": 2,
            "linecolor": "white",
            "showbackground": true,
            "ticks": "",
            "zerolinecolor": "white"
           },
           "yaxis": {
            "backgroundcolor": "#E5ECF6",
            "gridcolor": "white",
            "gridwidth": 2,
            "linecolor": "white",
            "showbackground": true,
            "ticks": "",
            "zerolinecolor": "white"
           },
           "zaxis": {
            "backgroundcolor": "#E5ECF6",
            "gridcolor": "white",
            "gridwidth": 2,
            "linecolor": "white",
            "showbackground": true,
            "ticks": "",
            "zerolinecolor": "white"
           }
          },
          "shapedefaults": {
           "line": {
            "color": "#2a3f5f"
           }
          },
          "ternary": {
           "aaxis": {
            "gridcolor": "white",
            "linecolor": "white",
            "ticks": ""
           },
           "baxis": {
            "gridcolor": "white",
            "linecolor": "white",
            "ticks": ""
           },
           "bgcolor": "#E5ECF6",
           "caxis": {
            "gridcolor": "white",
            "linecolor": "white",
            "ticks": ""
           }
          },
          "title": {
           "x": 0.05
          },
          "xaxis": {
           "automargin": true,
           "gridcolor": "white",
           "linecolor": "white",
           "ticks": "",
           "title": {
            "standoff": 15
           },
           "zerolinecolor": "white",
           "zerolinewidth": 2
          },
          "yaxis": {
           "automargin": true,
           "gridcolor": "white",
           "linecolor": "white",
           "ticks": "",
           "title": {
            "standoff": 15
           },
           "zerolinecolor": "white",
           "zerolinewidth": 2
          }
         }
        }
       }
      }
     },
     "metadata": {},
     "output_type": "display_data"
    }
   ],
   "source": [
    "import plotly.graph_objects as go\n",
    "\n",
    "pos_plotlist = []\n",
    "for _, row in all_players.iterrows():\n",
    "    pos_plot = go.Bar(\n",
    "        name=row.Number,\n",
    "        x = ['Home Projected', 'Home Actual', 'Away Projected', 'Away Actual'],\n",
    "        y = [row['home contributions'], row['home minute_elos'], row['away contributions'], row['away minute_elos']],\n",
    "        customdata = [row['Home Player'], row['Home Player'], row['Away Player'], row['Away Player']],\n",
    "        hovertemplate = \n",
    "            \"<b>%{customdata}</b>: \" + \n",
    "            \"%{y}\"\n",
    "    )\n",
    "    pos_plotlist.append(pos_plot)\n",
    "\n",
    "fig = go.Figure(data=pos_plotlist)\n",
    "# Change the bar mode\n",
    "fig.update_layout(barmode='stack')\n",
    "fig.show()"
   ]
  },
  {
   "cell_type": "code",
   "execution_count": 43,
   "metadata": {},
   "outputs": [
    {
     "data": {
      "application/vnd.plotly.v1+json": {
       "config": {
        "plotlyServerURL": "https://plot.ly"
       },
       "data": [
        {
         "customdata": [
          "George Bower",
          "George Bower",
          "Andrew Porter",
          "Andrew Porter"
         ],
         "hovertemplate": "<b>%{customdata}</b>: %{y}",
         "name": "1.0",
         "type": "bar",
         "x": [
          "Home Projected",
          "Home Actual",
          "Away Projected",
          "Away Actual"
         ],
         "y": [
          82.02736695983195,
          74.07056769565072,
          92.56713478083987,
          84.89402131576144
         ]
        },
        {
         "customdata": [
          "Codie Taylor",
          "Codie Taylor",
          "Dan Sheehan",
          "Dan Sheehan"
         ],
         "hovertemplate": "<b>%{customdata}</b>: %{y}",
         "name": "2.0",
         "type": "bar",
         "x": [
          "Home Projected",
          "Home Actual",
          "Away Projected",
          "Away Actual"
         ],
         "y": [
          88.8976508714006,
          71.4944070500153,
          71.10398162304422,
          64.20677000176127
         ]
        },
        {
         "customdata": [
          "Ofa Tu'ungafasi",
          "Ofa Tu'ungafasi",
          "Tadhg Furlong",
          "Tadhg Furlong"
         ],
         "hovertemplate": "<b>%{customdata}</b>: %{y}",
         "name": "3.0",
         "type": "bar",
         "x": [
          "Home Projected",
          "Home Actual",
          "Away Projected",
          "Away Actual"
         ],
         "y": [
          99.48801778589473,
          113.70059175530827,
          90.1468678847151,
          82.67437619056764
         ]
        },
        {
         "customdata": [
          "Brodie Retallick",
          "Brodie Retallick",
          "Tadhg Beirne",
          "Tadhg Beirne"
         ],
         "hovertemplate": "<b>%{customdata}</b>: %{y}",
         "name": "4.0",
         "type": "bar",
         "x": [
          "Home Projected",
          "Home Actual",
          "Away Projected",
          "Away Actual"
         ],
         "y": [
          110.26673073345263,
          107.34962145478988,
          94.72166341797369,
          108.25332962054136
         ]
        },
        {
         "customdata": [
          "Scott Barrett",
          "Scott Barrett",
          "James Ryan",
          "James Ryan"
         ],
         "hovertemplate": "<b>%{customdata}</b>: %{y}",
         "name": "5.0",
         "type": "bar",
         "x": [
          "Home Projected",
          "Home Actual",
          "Away Projected",
          "Away Actual"
         ],
         "y": [
          103.06958145907144,
          107.61409563275184,
          87.56363416304197,
          85.24713590476043
         ]
        },
        {
         "customdata": [
          "Dalton Papalii",
          "Dalton Papalii",
          "Peter O'Mahony",
          "Peter O'Mahony"
         ],
         "hovertemplate": "<b>%{customdata}</b>: %{y}",
         "name": "6.0",
         "type": "bar",
         "x": [
          "Home Projected",
          "Home Actual",
          "Away Projected",
          "Away Actual"
         ],
         "y": [
          94.90065908599075,
          79.00019592343497,
          92.22722666365699,
          98.8962148351031
         ]
        },
        {
         "customdata": [
          "Sam Cane",
          "Sam Cane",
          "Josh van der Flier",
          "Josh van der Flier"
         ],
         "hovertemplate": "<b>%{customdata}</b>: %{y}",
         "name": "7.0",
         "type": "bar",
         "x": [
          "Home Projected",
          "Home Actual",
          "Away Projected",
          "Away Actual"
         ],
         "y": [
          109.86549894004625,
          125.56057021719572,
          105.33777643529754,
          120.38603021176863
         ]
        },
        {
         "customdata": [
          "Ardie Savea",
          "Ardie Savea",
          "Caelan Doris",
          "Caelan Doris"
         ],
         "hovertemplate": "<b>%{customdata}</b>: %{y}",
         "name": "8.0",
         "type": "bar",
         "x": [
          "Home Projected",
          "Home Actual",
          "Away Projected",
          "Away Actual"
         ],
         "y": [
          97.20490186298339,
          45.25942520604518,
          84.66544221591026,
          82.42561570226184
         ]
        },
        {
         "customdata": [
          "Aaron Smith",
          "Aaron Smith",
          "Jamison Gibson-Park",
          "Jamison Gibson-Park"
         ],
         "hovertemplate": "<b>%{customdata}</b>: %{y}",
         "name": "9.0",
         "type": "bar",
         "x": [
          "Home Projected",
          "Home Actual",
          "Away Projected",
          "Away Actual"
         ],
         "y": [
          99.65009819101289,
          87.17186720060387,
          98.17019163550185,
          95.57309661868963
         ]
        },
        {
         "customdata": [
          "Beauden Barrett",
          "Beauden Barrett",
          "Johnny Sexton",
          "Johnny Sexton"
         ],
         "hovertemplate": "<b>%{customdata}</b>: %{y}",
         "name": "10.0",
         "type": "bar",
         "x": [
          "Home Projected",
          "Home Actual",
          "Away Projected",
          "Away Actual"
         ],
         "y": [
          109.3608891675482,
          87.9516145686102,
          112.70601652350796,
          117.67541760479138
         ]
        },
        {
         "customdata": [
          "Leicester Fainga'anuku",
          "Leicester Fainga'anuku",
          "James Lowe",
          "James Lowe"
         ],
         "hovertemplate": "<b>%{customdata}</b>: %{y}",
         "name": "11.0",
         "type": "bar",
         "x": [
          "Home Projected",
          "Home Actual",
          "Away Projected",
          "Away Actual"
         ],
         "y": [
          82.09959514926939,
          57.91858564322356,
          122.15296160749533,
          139.60338469428038
         ]
        },
        {
         "customdata": [
          "Quinn Tupaea",
          "Quinn Tupaea",
          "Robbie Henshaw",
          "Robbie Henshaw"
         ],
         "hovertemplate": "<b>%{customdata}</b>: %{y}",
         "name": "12.0",
         "type": "bar",
         "x": [
          "Home Projected",
          "Home Actual",
          "Away Projected",
          "Away Actual"
         ],
         "y": [
          88.20288953903638,
          100.80330233032728,
          105.05019102599846,
          120.05736117256966
         ]
        },
        {
         "customdata": [
          "Rieko Ioane",
          "Rieko Ioane",
          "Garry Ringrose",
          "Garry Ringrose"
         ],
         "hovertemplate": "<b>%{customdata}</b>: %{y}",
         "name": "13.0",
         "type": "bar",
         "x": [
          "Home Projected",
          "Home Actual",
          "Away Projected",
          "Away Actual"
         ],
         "y": [
          86.56444067538676,
          98.93078934329915,
          105.70545596134812,
          46.23448514711522
         ]
        },
        {
         "customdata": [
          "Sevu Reece",
          "Sevu Reece",
          "Mack Hansen",
          "Mack Hansen"
         ],
         "hovertemplate": "<b>%{customdata}</b>: %{y}",
         "name": "14.0",
         "type": "bar",
         "x": [
          "Home Projected",
          "Home Actual",
          "Away Projected",
          "Away Actual"
         ],
         "y": [
          109.14185462766665,
          124.73354814590473,
          74.41749109643001,
          85.04856125306287
         ]
        },
        {
         "customdata": [
          "Jordie Barrett",
          "Jordie Barrett",
          "Hugo Keenan",
          "Hugo Keenan"
         ],
         "hovertemplate": "<b>%{customdata}</b>: %{y}",
         "name": "15.0",
         "type": "bar",
         "x": [
          "Home Projected",
          "Home Actual",
          "Away Projected",
          "Away Actual"
         ],
         "y": [
          100.48509663444848,
          114.8401104393697,
          100.00187523239649,
          114.28785740845312
         ]
        },
        {
         "customdata": [
          "Samisoni Taukei'aho",
          "Samisoni Taukei'aho",
          "Rob Herring",
          "Rob Herring"
         ],
         "hovertemplate": "<b>%{customdata}</b>: %{y}",
         "name": "16.0",
         "type": "bar",
         "x": [
          "Home Projected",
          "Home Actual",
          "Away Projected",
          "Away Actual"
         ],
         "y": [
          25.32206759230209,
          32.063396761382826,
          26.4814133746876,
          23.751399565774463
         ]
        },
        {
         "customdata": [
          "Aidan Ross",
          "Aidan Ross",
          "Cian Healy",
          "Cian Healy"
         ],
         "hovertemplate": "<b>%{customdata}</b>: %{y}",
         "name": "17.0",
         "type": "bar",
         "x": [
          "Home Projected",
          "Home Actual",
          "Away Projected",
          "Away Actual"
         ],
         "y": [
          25.62761836012669,
          27.0419102670958,
          28.78566837628769,
          24.29939295244291
         ]
        },
        {
         "customdata": [
          "Angus Ta'avao",
          "Angus Ta'avao",
          "Finlay Bealham",
          "Finlay Bealham"
         ],
         "hovertemplate": "<b>%{customdata}</b>: %{y}",
         "name": "18.0",
         "type": "bar",
         "x": [
          "Home Projected",
          "Home Actual",
          "Away Projected",
          "Away Actual"
         ],
         "y": [
          27.762561856616422,
          80.5603514885461,
          24.393606548992963,
          20.591838386825334
         ]
        },
        {
         "customdata": [
          "Patrick Tuipulotu",
          "Patrick Tuipulotu",
          "Kieran Treadwell",
          "Kieran Treadwell"
         ],
         "hovertemplate": "<b>%{customdata}</b>: %{y}",
         "name": "19.0",
         "type": "bar",
         "x": [
          "Home Projected",
          "Home Actual",
          "Away Projected",
          "Away Actual"
         ],
         "y": [
          25.776386422831482,
          25.838943865875176,
          24.474552046920767,
          15.495126335499062
         ]
        },
        {
         "customdata": [
          "Pita Gus Sowakula",
          "Pita Gus Sowakula",
          "Jack Conan",
          "Jack Conan"
         ],
         "hovertemplate": "<b>%{customdata}</b>: %{y}",
         "name": "20.0",
         "type": "bar",
         "x": [
          "Home Projected",
          "Home Actual",
          "Away Projected",
          "Away Actual"
         ],
         "y": [
          24.626593626821606,
          15.591385645344479,
          28.174267767347683,
          25.269734728548624
         ]
        },
        {
         "customdata": [
          "Folau Fakatava",
          "Folau Fakatava",
          "Conor Murray",
          "Conor Murray"
         ],
         "hovertemplate": "<b>%{customdata}</b>: %{y}",
         "name": "21.0",
         "type": "bar",
         "x": [
          "Home Projected",
          "Home Actual",
          "Away Projected",
          "Away Actual"
         ],
         "y": [
          18.696003920884383,
          18.741377782885053,
          26.159636606131603,
          16.561973159944035
         ]
        },
        {
         "customdata": [
          "Richie Mo'unga",
          "Richie Mo'unga",
          "Joey Carbery",
          "Joey Carbery"
         ],
         "hovertemplate": "<b>%{customdata}</b>: %{y}",
         "name": "22.0",
         "type": "bar",
         "x": [
          "Home Projected",
          "Home Actual",
          "Away Projected",
          "Away Actual"
         ],
         "y": [
          29.31945035028247,
          37.124976701845476,
          22.755705946115746,
          8.404027731497846
         ]
        },
        {
         "customdata": [
          "Will Jordan",
          "Will Jordan",
          "Bundee Aki",
          "Bundee Aki"
         ],
         "hovertemplate": "<b>%{customdata}</b>: %{y}",
         "name": "23.0",
         "type": "bar",
         "x": [
          "Home Projected",
          "Home Actual",
          "Away Projected",
          "Away Actual"
         ],
         "y": [
          25.9207930714543,
          42.39445949219601,
          29.999062564626104,
          79.13649510558749
         ]
        }
       ],
       "layout": {
        "barmode": "stack",
        "template": {
         "data": {
          "bar": [
           {
            "error_x": {
             "color": "#2a3f5f"
            },
            "error_y": {
             "color": "#2a3f5f"
            },
            "marker": {
             "line": {
              "color": "#E5ECF6",
              "width": 0.5
             },
             "pattern": {
              "fillmode": "overlay",
              "size": 10,
              "solidity": 0.2
             }
            },
            "type": "bar"
           }
          ],
          "barpolar": [
           {
            "marker": {
             "line": {
              "color": "#E5ECF6",
              "width": 0.5
             },
             "pattern": {
              "fillmode": "overlay",
              "size": 10,
              "solidity": 0.2
             }
            },
            "type": "barpolar"
           }
          ],
          "carpet": [
           {
            "aaxis": {
             "endlinecolor": "#2a3f5f",
             "gridcolor": "white",
             "linecolor": "white",
             "minorgridcolor": "white",
             "startlinecolor": "#2a3f5f"
            },
            "baxis": {
             "endlinecolor": "#2a3f5f",
             "gridcolor": "white",
             "linecolor": "white",
             "minorgridcolor": "white",
             "startlinecolor": "#2a3f5f"
            },
            "type": "carpet"
           }
          ],
          "choropleth": [
           {
            "colorbar": {
             "outlinewidth": 0,
             "ticks": ""
            },
            "type": "choropleth"
           }
          ],
          "contour": [
           {
            "colorbar": {
             "outlinewidth": 0,
             "ticks": ""
            },
            "colorscale": [
             [
              0,
              "#0d0887"
             ],
             [
              0.1111111111111111,
              "#46039f"
             ],
             [
              0.2222222222222222,
              "#7201a8"
             ],
             [
              0.3333333333333333,
              "#9c179e"
             ],
             [
              0.4444444444444444,
              "#bd3786"
             ],
             [
              0.5555555555555556,
              "#d8576b"
             ],
             [
              0.6666666666666666,
              "#ed7953"
             ],
             [
              0.7777777777777778,
              "#fb9f3a"
             ],
             [
              0.8888888888888888,
              "#fdca26"
             ],
             [
              1,
              "#f0f921"
             ]
            ],
            "type": "contour"
           }
          ],
          "contourcarpet": [
           {
            "colorbar": {
             "outlinewidth": 0,
             "ticks": ""
            },
            "type": "contourcarpet"
           }
          ],
          "heatmap": [
           {
            "colorbar": {
             "outlinewidth": 0,
             "ticks": ""
            },
            "colorscale": [
             [
              0,
              "#0d0887"
             ],
             [
              0.1111111111111111,
              "#46039f"
             ],
             [
              0.2222222222222222,
              "#7201a8"
             ],
             [
              0.3333333333333333,
              "#9c179e"
             ],
             [
              0.4444444444444444,
              "#bd3786"
             ],
             [
              0.5555555555555556,
              "#d8576b"
             ],
             [
              0.6666666666666666,
              "#ed7953"
             ],
             [
              0.7777777777777778,
              "#fb9f3a"
             ],
             [
              0.8888888888888888,
              "#fdca26"
             ],
             [
              1,
              "#f0f921"
             ]
            ],
            "type": "heatmap"
           }
          ],
          "heatmapgl": [
           {
            "colorbar": {
             "outlinewidth": 0,
             "ticks": ""
            },
            "colorscale": [
             [
              0,
              "#0d0887"
             ],
             [
              0.1111111111111111,
              "#46039f"
             ],
             [
              0.2222222222222222,
              "#7201a8"
             ],
             [
              0.3333333333333333,
              "#9c179e"
             ],
             [
              0.4444444444444444,
              "#bd3786"
             ],
             [
              0.5555555555555556,
              "#d8576b"
             ],
             [
              0.6666666666666666,
              "#ed7953"
             ],
             [
              0.7777777777777778,
              "#fb9f3a"
             ],
             [
              0.8888888888888888,
              "#fdca26"
             ],
             [
              1,
              "#f0f921"
             ]
            ],
            "type": "heatmapgl"
           }
          ],
          "histogram": [
           {
            "marker": {
             "pattern": {
              "fillmode": "overlay",
              "size": 10,
              "solidity": 0.2
             }
            },
            "type": "histogram"
           }
          ],
          "histogram2d": [
           {
            "colorbar": {
             "outlinewidth": 0,
             "ticks": ""
            },
            "colorscale": [
             [
              0,
              "#0d0887"
             ],
             [
              0.1111111111111111,
              "#46039f"
             ],
             [
              0.2222222222222222,
              "#7201a8"
             ],
             [
              0.3333333333333333,
              "#9c179e"
             ],
             [
              0.4444444444444444,
              "#bd3786"
             ],
             [
              0.5555555555555556,
              "#d8576b"
             ],
             [
              0.6666666666666666,
              "#ed7953"
             ],
             [
              0.7777777777777778,
              "#fb9f3a"
             ],
             [
              0.8888888888888888,
              "#fdca26"
             ],
             [
              1,
              "#f0f921"
             ]
            ],
            "type": "histogram2d"
           }
          ],
          "histogram2dcontour": [
           {
            "colorbar": {
             "outlinewidth": 0,
             "ticks": ""
            },
            "colorscale": [
             [
              0,
              "#0d0887"
             ],
             [
              0.1111111111111111,
              "#46039f"
             ],
             [
              0.2222222222222222,
              "#7201a8"
             ],
             [
              0.3333333333333333,
              "#9c179e"
             ],
             [
              0.4444444444444444,
              "#bd3786"
             ],
             [
              0.5555555555555556,
              "#d8576b"
             ],
             [
              0.6666666666666666,
              "#ed7953"
             ],
             [
              0.7777777777777778,
              "#fb9f3a"
             ],
             [
              0.8888888888888888,
              "#fdca26"
             ],
             [
              1,
              "#f0f921"
             ]
            ],
            "type": "histogram2dcontour"
           }
          ],
          "mesh3d": [
           {
            "colorbar": {
             "outlinewidth": 0,
             "ticks": ""
            },
            "type": "mesh3d"
           }
          ],
          "parcoords": [
           {
            "line": {
             "colorbar": {
              "outlinewidth": 0,
              "ticks": ""
             }
            },
            "type": "parcoords"
           }
          ],
          "pie": [
           {
            "automargin": true,
            "type": "pie"
           }
          ],
          "scatter": [
           {
            "fillpattern": {
             "fillmode": "overlay",
             "size": 10,
             "solidity": 0.2
            },
            "type": "scatter"
           }
          ],
          "scatter3d": [
           {
            "line": {
             "colorbar": {
              "outlinewidth": 0,
              "ticks": ""
             }
            },
            "marker": {
             "colorbar": {
              "outlinewidth": 0,
              "ticks": ""
             }
            },
            "type": "scatter3d"
           }
          ],
          "scattercarpet": [
           {
            "marker": {
             "colorbar": {
              "outlinewidth": 0,
              "ticks": ""
             }
            },
            "type": "scattercarpet"
           }
          ],
          "scattergeo": [
           {
            "marker": {
             "colorbar": {
              "outlinewidth": 0,
              "ticks": ""
             }
            },
            "type": "scattergeo"
           }
          ],
          "scattergl": [
           {
            "marker": {
             "colorbar": {
              "outlinewidth": 0,
              "ticks": ""
             }
            },
            "type": "scattergl"
           }
          ],
          "scattermapbox": [
           {
            "marker": {
             "colorbar": {
              "outlinewidth": 0,
              "ticks": ""
             }
            },
            "type": "scattermapbox"
           }
          ],
          "scatterpolar": [
           {
            "marker": {
             "colorbar": {
              "outlinewidth": 0,
              "ticks": ""
             }
            },
            "type": "scatterpolar"
           }
          ],
          "scatterpolargl": [
           {
            "marker": {
             "colorbar": {
              "outlinewidth": 0,
              "ticks": ""
             }
            },
            "type": "scatterpolargl"
           }
          ],
          "scatterternary": [
           {
            "marker": {
             "colorbar": {
              "outlinewidth": 0,
              "ticks": ""
             }
            },
            "type": "scatterternary"
           }
          ],
          "surface": [
           {
            "colorbar": {
             "outlinewidth": 0,
             "ticks": ""
            },
            "colorscale": [
             [
              0,
              "#0d0887"
             ],
             [
              0.1111111111111111,
              "#46039f"
             ],
             [
              0.2222222222222222,
              "#7201a8"
             ],
             [
              0.3333333333333333,
              "#9c179e"
             ],
             [
              0.4444444444444444,
              "#bd3786"
             ],
             [
              0.5555555555555556,
              "#d8576b"
             ],
             [
              0.6666666666666666,
              "#ed7953"
             ],
             [
              0.7777777777777778,
              "#fb9f3a"
             ],
             [
              0.8888888888888888,
              "#fdca26"
             ],
             [
              1,
              "#f0f921"
             ]
            ],
            "type": "surface"
           }
          ],
          "table": [
           {
            "cells": {
             "fill": {
              "color": "#EBF0F8"
             },
             "line": {
              "color": "white"
             }
            },
            "header": {
             "fill": {
              "color": "#C8D4E3"
             },
             "line": {
              "color": "white"
             }
            },
            "type": "table"
           }
          ]
         },
         "layout": {
          "annotationdefaults": {
           "arrowcolor": "#2a3f5f",
           "arrowhead": 0,
           "arrowwidth": 1
          },
          "autotypenumbers": "strict",
          "coloraxis": {
           "colorbar": {
            "outlinewidth": 0,
            "ticks": ""
           }
          },
          "colorscale": {
           "diverging": [
            [
             0,
             "#8e0152"
            ],
            [
             0.1,
             "#c51b7d"
            ],
            [
             0.2,
             "#de77ae"
            ],
            [
             0.3,
             "#f1b6da"
            ],
            [
             0.4,
             "#fde0ef"
            ],
            [
             0.5,
             "#f7f7f7"
            ],
            [
             0.6,
             "#e6f5d0"
            ],
            [
             0.7,
             "#b8e186"
            ],
            [
             0.8,
             "#7fbc41"
            ],
            [
             0.9,
             "#4d9221"
            ],
            [
             1,
             "#276419"
            ]
           ],
           "sequential": [
            [
             0,
             "#0d0887"
            ],
            [
             0.1111111111111111,
             "#46039f"
            ],
            [
             0.2222222222222222,
             "#7201a8"
            ],
            [
             0.3333333333333333,
             "#9c179e"
            ],
            [
             0.4444444444444444,
             "#bd3786"
            ],
            [
             0.5555555555555556,
             "#d8576b"
            ],
            [
             0.6666666666666666,
             "#ed7953"
            ],
            [
             0.7777777777777778,
             "#fb9f3a"
            ],
            [
             0.8888888888888888,
             "#fdca26"
            ],
            [
             1,
             "#f0f921"
            ]
           ],
           "sequentialminus": [
            [
             0,
             "#0d0887"
            ],
            [
             0.1111111111111111,
             "#46039f"
            ],
            [
             0.2222222222222222,
             "#7201a8"
            ],
            [
             0.3333333333333333,
             "#9c179e"
            ],
            [
             0.4444444444444444,
             "#bd3786"
            ],
            [
             0.5555555555555556,
             "#d8576b"
            ],
            [
             0.6666666666666666,
             "#ed7953"
            ],
            [
             0.7777777777777778,
             "#fb9f3a"
            ],
            [
             0.8888888888888888,
             "#fdca26"
            ],
            [
             1,
             "#f0f921"
            ]
           ]
          },
          "colorway": [
           "#636efa",
           "#EF553B",
           "#00cc96",
           "#ab63fa",
           "#FFA15A",
           "#19d3f3",
           "#FF6692",
           "#B6E880",
           "#FF97FF",
           "#FECB52"
          ],
          "font": {
           "color": "#2a3f5f"
          },
          "geo": {
           "bgcolor": "white",
           "lakecolor": "white",
           "landcolor": "#E5ECF6",
           "showlakes": true,
           "showland": true,
           "subunitcolor": "white"
          },
          "hoverlabel": {
           "align": "left"
          },
          "hovermode": "closest",
          "mapbox": {
           "style": "light"
          },
          "paper_bgcolor": "white",
          "plot_bgcolor": "#E5ECF6",
          "polar": {
           "angularaxis": {
            "gridcolor": "white",
            "linecolor": "white",
            "ticks": ""
           },
           "bgcolor": "#E5ECF6",
           "radialaxis": {
            "gridcolor": "white",
            "linecolor": "white",
            "ticks": ""
           }
          },
          "scene": {
           "xaxis": {
            "backgroundcolor": "#E5ECF6",
            "gridcolor": "white",
            "gridwidth": 2,
            "linecolor": "white",
            "showbackground": true,
            "ticks": "",
            "zerolinecolor": "white"
           },
           "yaxis": {
            "backgroundcolor": "#E5ECF6",
            "gridcolor": "white",
            "gridwidth": 2,
            "linecolor": "white",
            "showbackground": true,
            "ticks": "",
            "zerolinecolor": "white"
           },
           "zaxis": {
            "backgroundcolor": "#E5ECF6",
            "gridcolor": "white",
            "gridwidth": 2,
            "linecolor": "white",
            "showbackground": true,
            "ticks": "",
            "zerolinecolor": "white"
           }
          },
          "shapedefaults": {
           "line": {
            "color": "#2a3f5f"
           }
          },
          "ternary": {
           "aaxis": {
            "gridcolor": "white",
            "linecolor": "white",
            "ticks": ""
           },
           "baxis": {
            "gridcolor": "white",
            "linecolor": "white",
            "ticks": ""
           },
           "bgcolor": "#E5ECF6",
           "caxis": {
            "gridcolor": "white",
            "linecolor": "white",
            "ticks": ""
           }
          },
          "title": {
           "x": 0.05
          },
          "xaxis": {
           "automargin": true,
           "gridcolor": "white",
           "linecolor": "white",
           "ticks": "",
           "title": {
            "standoff": 15
           },
           "zerolinecolor": "white",
           "zerolinewidth": 2
          },
          "yaxis": {
           "automargin": true,
           "gridcolor": "white",
           "linecolor": "white",
           "ticks": "",
           "title": {
            "standoff": 15
           },
           "zerolinecolor": "white",
           "zerolinewidth": 2
          }
         }
        }
       }
      }
     },
     "metadata": {},
     "output_type": "display_data"
    }
   ],
   "source": [
    "fig = go.Figure(data=pos_plotlist)\n",
    "# Change the bar mode\n",
    "fig.update_layout(barmode='stack')\n",
    "fig.show()"
   ]
  },
  {
   "cell_type": "code",
   "execution_count": 41,
   "metadata": {},
   "outputs": [
    {
     "data": {
      "text/plain": [
       "Number                               1.0\n",
       "Home Name                  Keita Inagaki\n",
       "Home elo                       95.693948\n",
       "Home Percentile                     34.0\n",
       "Away Name             Jean-Baptiste Gros\n",
       "Away elo                      114.835326\n",
       "Away Percentile                     96.0\n",
       "home contributions             83.732204\n",
       "away contributions             100.48091\n",
       "Name: 0, dtype: object"
      ]
     },
     "execution_count": 41,
     "metadata": {},
     "output_type": "execute_result"
    }
   ],
   "source": [
    "row = all_players.iloc[0]\n",
    "row"
   ]
  },
  {
   "cell_type": "code",
   "execution_count": 9,
   "metadata": {},
   "outputs": [
    {
     "ename": "NameError",
     "evalue": "name 'match_df' is not defined",
     "output_type": "error",
     "traceback": [
      "\u001b[1;31m---------------------------------------------------------------------------\u001b[0m",
      "\u001b[1;31mNameError\u001b[0m                                 Traceback (most recent call last)",
      "\u001b[1;32mc:\\Users\\Graeham\\Documents\\GITHUB_PROJECTS\\grieman.github.io\\site_resources\\matches.ipynb Cell 9\u001b[0m in \u001b[0;36m<cell line: 1>\u001b[1;34m()\u001b[0m\n\u001b[1;32m----> <a href='vscode-notebook-cell:/c%3A/Users/Graeham/Documents/GITHUB_PROJECTS/grieman.github.io/site_resources/matches.ipynb#ch0000010?line=0'>1</a>\u001b[0m month \u001b[39m=\u001b[39m match_df[(match_df\u001b[39m.\u001b[39myear \u001b[39m==\u001b[39m \u001b[39m2022\u001b[39m) \u001b[39m&\u001b[39m (match_df\u001b[39m.\u001b[39mmonth \u001b[39m==\u001b[39m \u001b[39m7\u001b[39m)]\n\u001b[0;32m      <a href='vscode-notebook-cell:/c%3A/Users/Graeham/Documents/GITHUB_PROJECTS/grieman.github.io/site_resources/matches.ipynb#ch0000010?line=1'>2</a>\u001b[0m closest_games \u001b[39m=\u001b[39m month\u001b[39m.\u001b[39msort_values(\u001b[39m'\u001b[39m\u001b[39mlineup_spread\u001b[39m\u001b[39m'\u001b[39m,  key\u001b[39m=\u001b[39m\u001b[39mabs\u001b[39m)\u001b[39m.\u001b[39mhead()\n\u001b[0;32m      <a href='vscode-notebook-cell:/c%3A/Users/Graeham/Documents/GITHUB_PROJECTS/grieman.github.io/site_resources/matches.ipynb#ch0000010?line=3'>4</a>\u001b[0m sorted_pred_accuracy \u001b[39m=\u001b[39m month\u001b[39m.\u001b[39massign(tmp\u001b[39m=\u001b[39mmonth[\u001b[39m\"\u001b[39m\u001b[39mpoint_diff\u001b[39m\u001b[39m\"\u001b[39m] \u001b[39m-\u001b[39m month[\u001b[39m\"\u001b[39m\u001b[39mlineup_spread\u001b[39m\u001b[39m\"\u001b[39m])\u001b[39m.\u001b[39msort_values(by\u001b[39m=\u001b[39m\u001b[39m\"\u001b[39m\u001b[39mtmp\u001b[39m\u001b[39m\"\u001b[39m, key\u001b[39m=\u001b[39m\u001b[39mabs\u001b[39m)\u001b[39m#.drop(columns=\"tmp\")\u001b[39;00m\n",
      "\u001b[1;31mNameError\u001b[0m: name 'match_df' is not defined"
     ]
    }
   ],
   "source": [
    "month = match_df[(match_df.year == 2022) & (match_df.month == 7)]\n",
    "closest_games = month.sort_values('lineup_spread',  key=abs).head()\n",
    "\n",
    "sorted_pred_accuracy = month.assign(tmp=month[\"point_diff\"] - month[\"lineup_spread\"]).sort_values(by=\"tmp\", key=abs)#.drop(columns=\"tmp\")\n",
    "best_preds = sorted_pred_accuracy.head()\n",
    "worst_preds = sorted_pred_accuracy.tail()\n",
    "\n",
    "biggest_upsets = month[(month.lineup_spread * month.point_diff) < 0].assign(tmp=month[\"point_diff\"] - month[\"lineup_spread\"]).sort_values(by=\"tmp\", key=abs, ascending=False).drop(columns=\"tmp\").head()\n",
    "biggest_covers = month[((month.lineup_spread * month.point_diff) > 0)].assign(tmp=month[\"point_diff\"] - month[\"lineup_spread\"]).sort_values(by=\"tmp\", key=abs, ascending=False)#.drop(columns=\"tmp\").head()"
   ]
  },
  {
   "cell_type": "code",
   "execution_count": 7,
   "metadata": {},
   "outputs": [
    {
     "data": {
      "text/plain": [
       "-2.554117441069806"
      ]
     },
     "execution_count": 7,
     "metadata": {},
     "output_type": "execute_result"
    }
   ],
   "source": [
    "# CHANGE\n",
    "player_month = player_elo[(player_elo.year == 2022) & (player_elo.month == 5)]\n",
    "oneplayer = player_month[(player_month.Unicode_ID == '5155544848') & (player_month['Full Name'] == 'Caleb Delany')].sort_values('Date')\n",
    "oneplayer.iloc[-1].end_elo - oneplayer.iloc[0].start_elo"
   ]
  },
  {
   "cell_type": "code",
   "execution_count": 11,
   "metadata": {},
   "outputs": [
    {
     "data": {
      "text/html": [
       "<div>\n",
       "<style scoped>\n",
       "    .dataframe tbody tr th:only-of-type {\n",
       "        vertical-align: middle;\n",
       "    }\n",
       "\n",
       "    .dataframe tbody tr th {\n",
       "        vertical-align: top;\n",
       "    }\n",
       "\n",
       "    .dataframe thead th {\n",
       "        text-align: right;\n",
       "    }\n",
       "</style>\n",
       "<table border=\"1\" class=\"dataframe\">\n",
       "  <thead>\n",
       "    <tr style=\"text-align: right;\">\n",
       "      <th></th>\n",
       "      <th>Unicode_ID</th>\n",
       "      <th>Full Name</th>\n",
       "      <th>Team</th>\n",
       "      <th>0</th>\n",
       "      <th>end_elo</th>\n",
       "      <th>start_elo</th>\n",
       "      <th>elo_change</th>\n",
       "    </tr>\n",
       "  </thead>\n",
       "  <tbody>\n",
       "    <tr>\n",
       "      <th>576</th>\n",
       "      <td>5051515156</td>\n",
       "      <td>James Blackwell</td>\n",
       "      <td>Hurricanes</td>\n",
       "      <td>(100.88391371265058, 106.42990302317858, -5.54...</td>\n",
       "      <td>100.883914</td>\n",
       "      <td>106.429903</td>\n",
       "      <td>-5.545989</td>\n",
       "    </tr>\n",
       "    <tr>\n",
       "      <th>826</th>\n",
       "      <td>5055485550</td>\n",
       "      <td>Salesi Rayasi</td>\n",
       "      <td>Hurricanes</td>\n",
       "      <td>(110.70188334521939, 115.67822631062886, -4.97...</td>\n",
       "      <td>110.701883</td>\n",
       "      <td>115.678226</td>\n",
       "      <td>-4.976343</td>\n",
       "    </tr>\n",
       "    <tr>\n",
       "      <th>1070</th>\n",
       "      <td>5149525654</td>\n",
       "      <td>Quinn Tupaea</td>\n",
       "      <td>Chiefs</td>\n",
       "      <td>(113.26707089934938, 118.08496318931884, -4.81...</td>\n",
       "      <td>113.267071</td>\n",
       "      <td>118.084963</td>\n",
       "      <td>-4.817892</td>\n",
       "    </tr>\n",
       "    <tr>\n",
       "      <th>267</th>\n",
       "      <td>5048485452</td>\n",
       "      <td>Ardie Savea</td>\n",
       "      <td>Hurricanes</td>\n",
       "      <td>(118.33886733853684, 122.95562106235826, -4.61...</td>\n",
       "      <td>118.338867</td>\n",
       "      <td>122.955621</td>\n",
       "      <td>-4.616754</td>\n",
       "    </tr>\n",
       "    <tr>\n",
       "      <th>589</th>\n",
       "      <td>5051515748</td>\n",
       "      <td>Josh Ioane</td>\n",
       "      <td>Chiefs</td>\n",
       "      <td>(98.22976447566921, 102.77928260508381, -4.549...</td>\n",
       "      <td>98.229764</td>\n",
       "      <td>102.779283</td>\n",
       "      <td>-4.549518</td>\n",
       "    </tr>\n",
       "    <tr>\n",
       "      <th>...</th>\n",
       "      <td>...</td>\n",
       "      <td>...</td>\n",
       "      <td>...</td>\n",
       "      <td>...</td>\n",
       "      <td>...</td>\n",
       "      <td>...</td>\n",
       "      <td>...</td>\n",
       "    </tr>\n",
       "    <tr>\n",
       "      <th>406</th>\n",
       "      <td>5049535052</td>\n",
       "      <td>Mattia Bellini</td>\n",
       "      <td>Benetton Treviso</td>\n",
       "      <td>(96.79422627952788, 92.30762615721996, 4.48660...</td>\n",
       "      <td>96.794226</td>\n",
       "      <td>92.307626</td>\n",
       "      <td>4.486600</td>\n",
       "    </tr>\n",
       "    <tr>\n",
       "      <th>745</th>\n",
       "      <td>5053505254</td>\n",
       "      <td>Rhyno Smith</td>\n",
       "      <td>Benetton Treviso</td>\n",
       "      <td>(99.09602275738854, 94.60942263508062, 4.48660...</td>\n",
       "      <td>99.096023</td>\n",
       "      <td>94.609423</td>\n",
       "      <td>4.486600</td>\n",
       "    </tr>\n",
       "    <tr>\n",
       "      <th>244</th>\n",
       "      <td>4957555455</td>\n",
       "      <td>Juan Ignacio Brex</td>\n",
       "      <td>Benetton Treviso</td>\n",
       "      <td>(98.82188475913395, 94.33528463682603, 4.48660...</td>\n",
       "      <td>98.821885</td>\n",
       "      <td>94.335285</td>\n",
       "      <td>4.486600</td>\n",
       "    </tr>\n",
       "    <tr>\n",
       "      <th>408</th>\n",
       "      <td>5049535155</td>\n",
       "      <td>Federico Ruzza</td>\n",
       "      <td>Benetton Treviso</td>\n",
       "      <td>(102.4315904715746, 97.94499034926667, 4.48660...</td>\n",
       "      <td>102.431590</td>\n",
       "      <td>97.944990</td>\n",
       "      <td>4.486600</td>\n",
       "    </tr>\n",
       "    <tr>\n",
       "      <th>1333</th>\n",
       "      <td>5156565456</td>\n",
       "      <td>Vinaya Habosi</td>\n",
       "      <td>Fijian Drua</td>\n",
       "      <td>(98.67315216377675, 94.10948489797238, 4.56366...</td>\n",
       "      <td>98.673152</td>\n",
       "      <td>94.109485</td>\n",
       "      <td>4.563667</td>\n",
       "    </tr>\n",
       "  </tbody>\n",
       "</table>\n",
       "<p>1432 rows × 7 columns</p>\n",
       "</div>"
      ],
      "text/plain": [
       "      Unicode_ID          Full Name              Team  \\\n",
       "576   5051515156    James Blackwell        Hurricanes   \n",
       "826   5055485550      Salesi Rayasi        Hurricanes   \n",
       "1070  5149525654       Quinn Tupaea            Chiefs   \n",
       "267   5048485452        Ardie Savea        Hurricanes   \n",
       "589   5051515748         Josh Ioane            Chiefs   \n",
       "...          ...                ...               ...   \n",
       "406   5049535052     Mattia Bellini  Benetton Treviso   \n",
       "745   5053505254        Rhyno Smith  Benetton Treviso   \n",
       "244   4957555455  Juan Ignacio Brex  Benetton Treviso   \n",
       "408   5049535155     Federico Ruzza  Benetton Treviso   \n",
       "1333  5156565456      Vinaya Habosi       Fijian Drua   \n",
       "\n",
       "                                                      0     end_elo  \\\n",
       "576   (100.88391371265058, 106.42990302317858, -5.54...  100.883914   \n",
       "826   (110.70188334521939, 115.67822631062886, -4.97...  110.701883   \n",
       "1070  (113.26707089934938, 118.08496318931884, -4.81...  113.267071   \n",
       "267   (118.33886733853684, 122.95562106235826, -4.61...  118.338867   \n",
       "589   (98.22976447566921, 102.77928260508381, -4.549...   98.229764   \n",
       "...                                                 ...         ...   \n",
       "406   (96.79422627952788, 92.30762615721996, 4.48660...   96.794226   \n",
       "745   (99.09602275738854, 94.60942263508062, 4.48660...   99.096023   \n",
       "244   (98.82188475913395, 94.33528463682603, 4.48660...   98.821885   \n",
       "408   (102.4315904715746, 97.94499034926667, 4.48660...  102.431590   \n",
       "1333  (98.67315216377675, 94.10948489797238, 4.56366...   98.673152   \n",
       "\n",
       "       start_elo  elo_change  \n",
       "576   106.429903   -5.545989  \n",
       "826   115.678226   -4.976343  \n",
       "1070  118.084963   -4.817892  \n",
       "267   122.955621   -4.616754  \n",
       "589   102.779283   -4.549518  \n",
       "...          ...         ...  \n",
       "406    92.307626    4.486600  \n",
       "745    94.609423    4.486600  \n",
       "244    94.335285    4.486600  \n",
       "408    97.944990    4.486600  \n",
       "1333   94.109485    4.563667  \n",
       "\n",
       "[1432 rows x 7 columns]"
      ]
     },
     "execution_count": 11,
     "metadata": {},
     "output_type": "execute_result"
    }
   ],
   "source": [
    "def elo_change(df):\n",
    "    return df.iloc[-1].end_elo, df.iloc[0].start_elo, df.iloc[-1].end_elo - df.iloc[0].start_elo\n",
    "\n",
    "elo_changes = player_month.sort_values('Date').groupby(['Unicode_ID', 'Full Name', 'Team']).apply(elo_change).reset_index()\n",
    "elo_changes[['end_elo', 'start_elo', 'elo_change']] = pd.DataFrame(elo_changes[0].tolist(), index=elo_changes.index)\n",
    "elo_changes.sort_values('elo_change')"
   ]
  }
 ],
 "metadata": {
  "kernelspec": {
   "display_name": "Python 3.10.5 64-bit",
   "language": "python",
   "name": "python3"
  },
  "language_info": {
   "codemirror_mode": {
    "name": "ipython",
    "version": 3
   },
   "file_extension": ".py",
   "mimetype": "text/x-python",
   "name": "python",
   "nbconvert_exporter": "python",
   "pygments_lexer": "ipython3",
   "version": "3.10.5"
  },
  "orig_nbformat": 4,
  "vscode": {
   "interpreter": {
    "hash": "67a733b7962f8af59d042652146f23f4699488dc054cf1a64c9a8ede9a0c416f"
   }
  }
 },
 "nbformat": 4,
 "nbformat_minor": 2
}
